{
 "cells": [
  {
   "cell_type": "markdown",
   "id": "df112498-7432-47af-aec4-edbb5df59f8d",
   "metadata": {},
   "source": [
    "# Pandas"
   ]
  },
  {
   "cell_type": "markdown",
   "id": "e6892646-3cf1-40e7-800b-3cc216702f01",
   "metadata": {},
   "source": [
    "## 1.Getting familier with pandas"
   ]
  },
  {
   "cell_type": "markdown",
   "id": "5529a15d-f367-4e58-930c-fc41c7b2d601",
   "metadata": {},
   "source": [
    "Pandas is a powerful library in Python that provides flexible and efficient data structures for data manipulation and analysis. The two primary data structures in Pandas are DataFrames and Series. Understanding these structures and how to manipulate them is essential for any data science professional."
   ]
  },
  {
   "cell_type": "code",
   "execution_count": 1,
   "id": "318a8704-c131-4b13-b23b-e33ed4e96beb",
   "metadata": {},
   "outputs": [],
   "source": [
    "#importing pandas package\n",
    "import pandas as pd"
   ]
  },
  {
   "cell_type": "markdown",
   "id": "1b944aad-acc2-49a8-aa09-21092ca7797f",
   "metadata": {},
   "source": [
    "### Understanding dataframes and series"
   ]
  },
  {
   "cell_type": "markdown",
   "id": "bf1e8cb0-3b12-4270-829c-2cddba346ddc",
   "metadata": {},
   "source": [
    "**Series:** A Pandas Series is a one-dimensional labeled array capable of holding any data type (integers, strings, floats, etc.). It is similar to a column in an Excel spreadsheet or a single column in a database table. Each element in a Series is associated with an index.\n",
    "\n",
    "**DataFrame:** A DataFrame is a two-dimensional labeled data structure, similar to a table in a database or an Excel spreadsheet. It consists of rows and columns, where each column can be of a different data type."
   ]
  },
  {
   "cell_type": "code",
   "execution_count": 2,
   "id": "7b0cf3e7-790e-4062-8a8e-a0faf0d4bebd",
   "metadata": {},
   "outputs": [
    {
     "name": "stdout",
     "output_type": "stream",
     "text": [
      "0     2\n",
      "1    14\n",
      "2    41\n",
      "3    55\n",
      "4    24\n",
      "5    44\n",
      "dtype: int64\n"
     ]
    }
   ],
   "source": [
    "# Creating a Series from a list\n",
    "data = [2,14,41,55,24,44]\n",
    "series = pd.Series(data)\n",
    "print(series)"
   ]
  },
  {
   "cell_type": "code",
   "execution_count": 8,
   "id": "b027c3b1-70b8-4154-afbe-29974a0ee21e",
   "metadata": {},
   "outputs": [
    {
     "data": {
      "text/html": [
       "<div>\n",
       "<style scoped>\n",
       "    .dataframe tbody tr th:only-of-type {\n",
       "        vertical-align: middle;\n",
       "    }\n",
       "\n",
       "    .dataframe tbody tr th {\n",
       "        vertical-align: top;\n",
       "    }\n",
       "\n",
       "    .dataframe thead th {\n",
       "        text-align: right;\n",
       "    }\n",
       "</style>\n",
       "<table border=\"1\" class=\"dataframe\">\n",
       "  <thead>\n",
       "    <tr style=\"text-align: right;\">\n",
       "      <th></th>\n",
       "      <th>Name</th>\n",
       "      <th>Age</th>\n",
       "      <th>Native</th>\n",
       "    </tr>\n",
       "  </thead>\n",
       "  <tbody>\n",
       "    <tr>\n",
       "      <th>0</th>\n",
       "      <td>Indu</td>\n",
       "      <td>56</td>\n",
       "      <td>Alamanda</td>\n",
       "    </tr>\n",
       "    <tr>\n",
       "      <th>1</th>\n",
       "      <td>Bindu</td>\n",
       "      <td>60</td>\n",
       "      <td>Srikakulam</td>\n",
       "    </tr>\n",
       "    <tr>\n",
       "      <th>2</th>\n",
       "      <td>Meghana</td>\n",
       "      <td>19</td>\n",
       "      <td>Vizag</td>\n",
       "    </tr>\n",
       "    <tr>\n",
       "      <th>3</th>\n",
       "      <td>Vinu</td>\n",
       "      <td>45</td>\n",
       "      <td>Bheemli</td>\n",
       "    </tr>\n",
       "  </tbody>\n",
       "</table>\n",
       "</div>"
      ],
      "text/plain": [
       "      Name  Age      Native\n",
       "0     Indu   56    Alamanda\n",
       "1    Bindu   60  Srikakulam\n",
       "2  Meghana   19       Vizag\n",
       "3     Vinu   45     Bheemli"
      ]
     },
     "execution_count": 8,
     "metadata": {},
     "output_type": "execute_result"
    }
   ],
   "source": [
    "# Creating a DataFrame from a dictionary\n",
    "data = {\n",
    "    'Name': ['Indu', 'Bindu', 'Meghana','Vinu'],\n",
    "    'Age': [56, 60, 19,45],\n",
    "    'Native': ['Alamanda', 'Srikakulam', 'Vizag','Bheemli']\n",
    "}\n",
    "df = pd.DataFrame(data)\n",
    "df"
   ]
  },
  {
   "cell_type": "code",
   "execution_count": 7,
   "id": "9d171879-d389-4cd5-a697-512475d91c0f",
   "metadata": {},
   "outputs": [
    {
     "data": {
      "text/html": [
       "<div>\n",
       "<style scoped>\n",
       "    .dataframe tbody tr th:only-of-type {\n",
       "        vertical-align: middle;\n",
       "    }\n",
       "\n",
       "    .dataframe tbody tr th {\n",
       "        vertical-align: top;\n",
       "    }\n",
       "\n",
       "    .dataframe thead th {\n",
       "        text-align: right;\n",
       "    }\n",
       "</style>\n",
       "<table border=\"1\" class=\"dataframe\">\n",
       "  <thead>\n",
       "    <tr style=\"text-align: right;\">\n",
       "      <th></th>\n",
       "      <th>Name</th>\n",
       "      <th>Age</th>\n",
       "    </tr>\n",
       "  </thead>\n",
       "  <tbody>\n",
       "    <tr>\n",
       "      <th>0</th>\n",
       "      <td>Indu</td>\n",
       "      <td>56</td>\n",
       "    </tr>\n",
       "    <tr>\n",
       "      <th>1</th>\n",
       "      <td>Bindu</td>\n",
       "      <td>60</td>\n",
       "    </tr>\n",
       "    <tr>\n",
       "      <th>2</th>\n",
       "      <td>Meghana</td>\n",
       "      <td>19</td>\n",
       "    </tr>\n",
       "    <tr>\n",
       "      <th>3</th>\n",
       "      <td>Vinuthna</td>\n",
       "      <td>45</td>\n",
       "    </tr>\n",
       "  </tbody>\n",
       "</table>\n",
       "</div>"
      ],
      "text/plain": [
       "       Name  Age\n",
       "0      Indu   56\n",
       "1     Bindu   60\n",
       "2   Meghana   19\n",
       "3  Vinuthna   45"
      ]
     },
     "execution_count": 7,
     "metadata": {},
     "output_type": "execute_result"
    }
   ],
   "source": [
    "# Creating a DataFrame from a list of lists\n",
    "data = [['Indu', 56], ['Bindu', 60], ['Meghana', 19],['Vinuthna',45]]\n",
    "df2 = pd.DataFrame(data, columns=['Name', 'Age'])\n",
    "df2"
   ]
  },
  {
   "cell_type": "code",
   "execution_count": 12,
   "id": "55a20c63-80ee-4d73-aea1-01b36e2a674c",
   "metadata": {},
   "outputs": [],
   "source": [
    "# Reading a DataFrame from a CSV file\n",
    "df3 = pd.read_csv('student.csv')"
   ]
  },
  {
   "cell_type": "code",
   "execution_count": 13,
   "id": "0843400f-f967-4f9e-b82f-9ca23bbe5236",
   "metadata": {},
   "outputs": [
    {
     "data": {
      "text/html": [
       "<div>\n",
       "<style scoped>\n",
       "    .dataframe tbody tr th:only-of-type {\n",
       "        vertical-align: middle;\n",
       "    }\n",
       "\n",
       "    .dataframe tbody tr th {\n",
       "        vertical-align: top;\n",
       "    }\n",
       "\n",
       "    .dataframe thead th {\n",
       "        text-align: right;\n",
       "    }\n",
       "</style>\n",
       "<table border=\"1\" class=\"dataframe\">\n",
       "  <thead>\n",
       "    <tr style=\"text-align: right;\">\n",
       "      <th></th>\n",
       "      <th>Name</th>\n",
       "      <th>Rollno</th>\n",
       "      <th>Age</th>\n",
       "    </tr>\n",
       "  </thead>\n",
       "  <tbody>\n",
       "    <tr>\n",
       "      <th>0</th>\n",
       "      <td>meghana</td>\n",
       "      <td>2</td>\n",
       "      <td>20</td>\n",
       "    </tr>\n",
       "    <tr>\n",
       "      <th>1</th>\n",
       "      <td>indu</td>\n",
       "      <td>41</td>\n",
       "      <td>19</td>\n",
       "    </tr>\n",
       "    <tr>\n",
       "      <th>2</th>\n",
       "      <td>bindu</td>\n",
       "      <td>55</td>\n",
       "      <td>19</td>\n",
       "    </tr>\n",
       "  </tbody>\n",
       "</table>\n",
       "</div>"
      ],
      "text/plain": [
       "      Name  Rollno  Age\n",
       "0  meghana       2   20\n",
       "1     indu      41   19\n",
       "2    bindu      55   19"
      ]
     },
     "execution_count": 13,
     "metadata": {},
     "output_type": "execute_result"
    }
   ],
   "source": [
    "df3"
   ]
  },
  {
   "cell_type": "markdown",
   "id": "09f74cf2-85d8-4e44-b096-bfd3eb5cce8d",
   "metadata": {},
   "source": [
    "### Common Operations"
   ]
  },
  {
   "cell_type": "markdown",
   "id": "50003eb0-1813-4ac1-8711-2891275ea198",
   "metadata": {},
   "source": [
    "#### Selecting data"
   ]
  },
  {
   "cell_type": "code",
   "execution_count": 14,
   "id": "967073c5-8676-4777-880d-d451a93d7780",
   "metadata": {},
   "outputs": [
    {
     "data": {
      "text/plain": [
       "0       Indu\n",
       "1      Bindu\n",
       "2    Meghana\n",
       "3       Vinu\n",
       "Name: Name, dtype: object"
      ]
     },
     "execution_count": 14,
     "metadata": {},
     "output_type": "execute_result"
    }
   ],
   "source": [
    "#selecting columns\n",
    "\n",
    "#single column\n",
    "df['Name']"
   ]
  },
  {
   "cell_type": "code",
   "execution_count": 15,
   "id": "ab1c3dc0-166d-4299-9ba0-d88286defe8c",
   "metadata": {},
   "outputs": [
    {
     "data": {
      "text/html": [
       "<div>\n",
       "<style scoped>\n",
       "    .dataframe tbody tr th:only-of-type {\n",
       "        vertical-align: middle;\n",
       "    }\n",
       "\n",
       "    .dataframe tbody tr th {\n",
       "        vertical-align: top;\n",
       "    }\n",
       "\n",
       "    .dataframe thead th {\n",
       "        text-align: right;\n",
       "    }\n",
       "</style>\n",
       "<table border=\"1\" class=\"dataframe\">\n",
       "  <thead>\n",
       "    <tr style=\"text-align: right;\">\n",
       "      <th></th>\n",
       "      <th>Name</th>\n",
       "      <th>Age</th>\n",
       "    </tr>\n",
       "  </thead>\n",
       "  <tbody>\n",
       "    <tr>\n",
       "      <th>0</th>\n",
       "      <td>Indu</td>\n",
       "      <td>56</td>\n",
       "    </tr>\n",
       "    <tr>\n",
       "      <th>1</th>\n",
       "      <td>Bindu</td>\n",
       "      <td>60</td>\n",
       "    </tr>\n",
       "    <tr>\n",
       "      <th>2</th>\n",
       "      <td>Meghana</td>\n",
       "      <td>19</td>\n",
       "    </tr>\n",
       "    <tr>\n",
       "      <th>3</th>\n",
       "      <td>Vinu</td>\n",
       "      <td>45</td>\n",
       "    </tr>\n",
       "  </tbody>\n",
       "</table>\n",
       "</div>"
      ],
      "text/plain": [
       "      Name  Age\n",
       "0     Indu   56\n",
       "1    Bindu   60\n",
       "2  Meghana   19\n",
       "3     Vinu   45"
      ]
     },
     "execution_count": 15,
     "metadata": {},
     "output_type": "execute_result"
    }
   ],
   "source": [
    "#multiple columns\n",
    "df[['Name','Age']]"
   ]
  },
  {
   "cell_type": "markdown",
   "id": "034b1a56-587e-4893-898d-5e5f4bb2da88",
   "metadata": {},
   "source": [
    "#### Selecting Rows by Index"
   ]
  },
  {
   "cell_type": "code",
   "execution_count": 17,
   "id": "b3c5b6c9-a415-4772-9867-b476341653a0",
   "metadata": {},
   "outputs": [
    {
     "data": {
      "text/plain": [
       "Name          Indu\n",
       "Age             56\n",
       "Native    Alamanda\n",
       "Name: 0, dtype: object"
      ]
     },
     "execution_count": 17,
     "metadata": {},
     "output_type": "execute_result"
    }
   ],
   "source": [
    "#using iloc\n",
    "#select first row\n",
    "df.iloc[0]"
   ]
  },
  {
   "cell_type": "code",
   "execution_count": 18,
   "id": "d21c6b70-40a9-4b25-a4b4-3bf073c8afcb",
   "metadata": {},
   "outputs": [
    {
     "data": {
      "text/html": [
       "<div>\n",
       "<style scoped>\n",
       "    .dataframe tbody tr th:only-of-type {\n",
       "        vertical-align: middle;\n",
       "    }\n",
       "\n",
       "    .dataframe tbody tr th {\n",
       "        vertical-align: top;\n",
       "    }\n",
       "\n",
       "    .dataframe thead th {\n",
       "        text-align: right;\n",
       "    }\n",
       "</style>\n",
       "<table border=\"1\" class=\"dataframe\">\n",
       "  <thead>\n",
       "    <tr style=\"text-align: right;\">\n",
       "      <th></th>\n",
       "      <th>Name</th>\n",
       "      <th>Age</th>\n",
       "      <th>Native</th>\n",
       "    </tr>\n",
       "  </thead>\n",
       "  <tbody>\n",
       "    <tr>\n",
       "      <th>0</th>\n",
       "      <td>Indu</td>\n",
       "      <td>56</td>\n",
       "      <td>Alamanda</td>\n",
       "    </tr>\n",
       "    <tr>\n",
       "      <th>1</th>\n",
       "      <td>Bindu</td>\n",
       "      <td>60</td>\n",
       "      <td>Srikakulam</td>\n",
       "    </tr>\n",
       "  </tbody>\n",
       "</table>\n",
       "</div>"
      ],
      "text/plain": [
       "    Name  Age      Native\n",
       "0   Indu   56    Alamanda\n",
       "1  Bindu   60  Srikakulam"
      ]
     },
     "execution_count": 18,
     "metadata": {},
     "output_type": "execute_result"
    }
   ],
   "source": [
    "#multiple rows\n",
    "df.iloc[0:2]"
   ]
  },
  {
   "cell_type": "markdown",
   "id": "58d600ab-e6c6-4b85-912c-4c155b18b1e7",
   "metadata": {},
   "source": [
    "#### Selecting Rows by Condition"
   ]
  },
  {
   "cell_type": "code",
   "execution_count": 19,
   "id": "b4585518-e3c7-4880-bf7f-d6b02652fcc5",
   "metadata": {},
   "outputs": [
    {
     "data": {
      "text/html": [
       "<div>\n",
       "<style scoped>\n",
       "    .dataframe tbody tr th:only-of-type {\n",
       "        vertical-align: middle;\n",
       "    }\n",
       "\n",
       "    .dataframe tbody tr th {\n",
       "        vertical-align: top;\n",
       "    }\n",
       "\n",
       "    .dataframe thead th {\n",
       "        text-align: right;\n",
       "    }\n",
       "</style>\n",
       "<table border=\"1\" class=\"dataframe\">\n",
       "  <thead>\n",
       "    <tr style=\"text-align: right;\">\n",
       "      <th></th>\n",
       "      <th>Name</th>\n",
       "      <th>Age</th>\n",
       "      <th>Native</th>\n",
       "    </tr>\n",
       "  </thead>\n",
       "  <tbody>\n",
       "    <tr>\n",
       "      <th>0</th>\n",
       "      <td>Indu</td>\n",
       "      <td>56</td>\n",
       "      <td>Alamanda</td>\n",
       "    </tr>\n",
       "    <tr>\n",
       "      <th>1</th>\n",
       "      <td>Bindu</td>\n",
       "      <td>60</td>\n",
       "      <td>Srikakulam</td>\n",
       "    </tr>\n",
       "    <tr>\n",
       "      <th>3</th>\n",
       "      <td>Vinu</td>\n",
       "      <td>45</td>\n",
       "      <td>Bheemli</td>\n",
       "    </tr>\n",
       "  </tbody>\n",
       "</table>\n",
       "</div>"
      ],
      "text/plain": [
       "    Name  Age      Native\n",
       "0   Indu   56    Alamanda\n",
       "1  Bindu   60  Srikakulam\n",
       "3   Vinu   45     Bheemli"
      ]
     },
     "execution_count": 19,
     "metadata": {},
     "output_type": "execute_result"
    }
   ],
   "source": [
    "df[df['Age']>40]"
   ]
  },
  {
   "cell_type": "markdown",
   "id": "3a5a36bc-482c-42f6-934d-0af4d65bfada",
   "metadata": {},
   "source": [
    "### Filtering Rows"
   ]
  },
  {
   "cell_type": "markdown",
   "id": "a99eab4e-1873-4d05-81cd-e85bdab28f66",
   "metadata": {},
   "source": [
    "Using Conditions"
   ]
  },
  {
   "cell_type": "code",
   "execution_count": 22,
   "id": "f1d05d35-4775-4f91-abee-35b4252b2581",
   "metadata": {},
   "outputs": [
    {
     "data": {
      "text/html": [
       "<div>\n",
       "<style scoped>\n",
       "    .dataframe tbody tr th:only-of-type {\n",
       "        vertical-align: middle;\n",
       "    }\n",
       "\n",
       "    .dataframe tbody tr th {\n",
       "        vertical-align: top;\n",
       "    }\n",
       "\n",
       "    .dataframe thead th {\n",
       "        text-align: right;\n",
       "    }\n",
       "</style>\n",
       "<table border=\"1\" class=\"dataframe\">\n",
       "  <thead>\n",
       "    <tr style=\"text-align: right;\">\n",
       "      <th></th>\n",
       "      <th>Name</th>\n",
       "      <th>Age</th>\n",
       "      <th>Native</th>\n",
       "    </tr>\n",
       "  </thead>\n",
       "  <tbody>\n",
       "    <tr>\n",
       "      <th>1</th>\n",
       "      <td>Bindu</td>\n",
       "      <td>60</td>\n",
       "      <td>Srikakulam</td>\n",
       "    </tr>\n",
       "  </tbody>\n",
       "</table>\n",
       "</div>"
      ],
      "text/plain": [
       "    Name  Age      Native\n",
       "1  Bindu   60  Srikakulam"
      ]
     },
     "execution_count": 22,
     "metadata": {},
     "output_type": "execute_result"
    }
   ],
   "source": [
    "filtered_df = df[df['Native'] == 'Srikakulam']\n",
    "filtered_df"
   ]
  },
  {
   "cell_type": "code",
   "execution_count": 23,
   "id": "7af1646c-d8dc-4e18-aef9-2467f083dd4b",
   "metadata": {},
   "outputs": [
    {
     "data": {
      "text/plain": [
       "0    False\n",
       "1    False\n",
       "2    False\n",
       "3     True\n",
       "dtype: bool"
      ]
     },
     "execution_count": 23,
     "metadata": {},
     "output_type": "execute_result"
    }
   ],
   "source": [
    "(df['Age'] > 25) & (df['Native'] == 'Bheemli')"
   ]
  },
  {
   "cell_type": "code",
   "execution_count": 24,
   "id": "6d84d470-821f-45a4-91ca-8ab9ad6d3a83",
   "metadata": {},
   "outputs": [
    {
     "data": {
      "text/html": [
       "<div>\n",
       "<style scoped>\n",
       "    .dataframe tbody tr th:only-of-type {\n",
       "        vertical-align: middle;\n",
       "    }\n",
       "\n",
       "    .dataframe tbody tr th {\n",
       "        vertical-align: top;\n",
       "    }\n",
       "\n",
       "    .dataframe thead th {\n",
       "        text-align: right;\n",
       "    }\n",
       "</style>\n",
       "<table border=\"1\" class=\"dataframe\">\n",
       "  <thead>\n",
       "    <tr style=\"text-align: right;\">\n",
       "      <th></th>\n",
       "      <th>Name</th>\n",
       "      <th>Age</th>\n",
       "      <th>Native</th>\n",
       "    </tr>\n",
       "  </thead>\n",
       "  <tbody>\n",
       "    <tr>\n",
       "      <th>3</th>\n",
       "      <td>Vinu</td>\n",
       "      <td>45</td>\n",
       "      <td>Bheemli</td>\n",
       "    </tr>\n",
       "  </tbody>\n",
       "</table>\n",
       "</div>"
      ],
      "text/plain": [
       "   Name  Age   Native\n",
       "3  Vinu   45  Bheemli"
      ]
     },
     "execution_count": 24,
     "metadata": {},
     "output_type": "execute_result"
    }
   ],
   "source": [
    "df[(df['Age'] > 25) & (df['Native'] == 'Bheemli')]"
   ]
  },
  {
   "cell_type": "markdown",
   "id": "9bf47993-a838-4421-999e-d07079a5b850",
   "metadata": {},
   "source": [
    "### Modifying data within dataframes"
   ]
  },
  {
   "cell_type": "code",
   "execution_count": 25,
   "id": "253845bd-4b5b-42d0-a4d9-0c10aa9c5350",
   "metadata": {},
   "outputs": [],
   "source": [
    "# Add a new column\n",
    "df['Salary'] = [50000, 60000, 70000,100000]"
   ]
  },
  {
   "cell_type": "code",
   "execution_count": 26,
   "id": "c0639a6c-9b24-46ca-b3bd-8917be3fbebf",
   "metadata": {},
   "outputs": [
    {
     "data": {
      "text/html": [
       "<div>\n",
       "<style scoped>\n",
       "    .dataframe tbody tr th:only-of-type {\n",
       "        vertical-align: middle;\n",
       "    }\n",
       "\n",
       "    .dataframe tbody tr th {\n",
       "        vertical-align: top;\n",
       "    }\n",
       "\n",
       "    .dataframe thead th {\n",
       "        text-align: right;\n",
       "    }\n",
       "</style>\n",
       "<table border=\"1\" class=\"dataframe\">\n",
       "  <thead>\n",
       "    <tr style=\"text-align: right;\">\n",
       "      <th></th>\n",
       "      <th>Name</th>\n",
       "      <th>Age</th>\n",
       "      <th>Native</th>\n",
       "      <th>Salary</th>\n",
       "    </tr>\n",
       "  </thead>\n",
       "  <tbody>\n",
       "    <tr>\n",
       "      <th>0</th>\n",
       "      <td>Indu</td>\n",
       "      <td>56</td>\n",
       "      <td>Alamanda</td>\n",
       "      <td>50000</td>\n",
       "    </tr>\n",
       "    <tr>\n",
       "      <th>1</th>\n",
       "      <td>Bindu</td>\n",
       "      <td>60</td>\n",
       "      <td>Srikakulam</td>\n",
       "      <td>60000</td>\n",
       "    </tr>\n",
       "    <tr>\n",
       "      <th>2</th>\n",
       "      <td>Meghana</td>\n",
       "      <td>19</td>\n",
       "      <td>Vizag</td>\n",
       "      <td>70000</td>\n",
       "    </tr>\n",
       "    <tr>\n",
       "      <th>3</th>\n",
       "      <td>Vinu</td>\n",
       "      <td>45</td>\n",
       "      <td>Bheemli</td>\n",
       "      <td>100000</td>\n",
       "    </tr>\n",
       "  </tbody>\n",
       "</table>\n",
       "</div>"
      ],
      "text/plain": [
       "      Name  Age      Native  Salary\n",
       "0     Indu   56    Alamanda   50000\n",
       "1    Bindu   60  Srikakulam   60000\n",
       "2  Meghana   19       Vizag   70000\n",
       "3     Vinu   45     Bheemli  100000"
      ]
     },
     "execution_count": 26,
     "metadata": {},
     "output_type": "execute_result"
    }
   ],
   "source": [
    "df"
   ]
  },
  {
   "cell_type": "code",
   "execution_count": 27,
   "id": "d3f68345-a503-4102-b552-35cde0782f03",
   "metadata": {},
   "outputs": [
    {
     "data": {
      "text/html": [
       "<div>\n",
       "<style scoped>\n",
       "    .dataframe tbody tr th:only-of-type {\n",
       "        vertical-align: middle;\n",
       "    }\n",
       "\n",
       "    .dataframe tbody tr th {\n",
       "        vertical-align: top;\n",
       "    }\n",
       "\n",
       "    .dataframe thead th {\n",
       "        text-align: right;\n",
       "    }\n",
       "</style>\n",
       "<table border=\"1\" class=\"dataframe\">\n",
       "  <thead>\n",
       "    <tr style=\"text-align: right;\">\n",
       "      <th></th>\n",
       "      <th>Name</th>\n",
       "      <th>Age</th>\n",
       "      <th>Native</th>\n",
       "      <th>Salary</th>\n",
       "    </tr>\n",
       "  </thead>\n",
       "  <tbody>\n",
       "    <tr>\n",
       "      <th>0</th>\n",
       "      <td>Indu</td>\n",
       "      <td>66</td>\n",
       "      <td>Alamanda</td>\n",
       "      <td>50000</td>\n",
       "    </tr>\n",
       "    <tr>\n",
       "      <th>1</th>\n",
       "      <td>Bindu</td>\n",
       "      <td>70</td>\n",
       "      <td>Srikakulam</td>\n",
       "      <td>60000</td>\n",
       "    </tr>\n",
       "    <tr>\n",
       "      <th>2</th>\n",
       "      <td>Meghana</td>\n",
       "      <td>29</td>\n",
       "      <td>Vizag</td>\n",
       "      <td>70000</td>\n",
       "    </tr>\n",
       "    <tr>\n",
       "      <th>3</th>\n",
       "      <td>Vinu</td>\n",
       "      <td>55</td>\n",
       "      <td>Bheemli</td>\n",
       "      <td>100000</td>\n",
       "    </tr>\n",
       "  </tbody>\n",
       "</table>\n",
       "</div>"
      ],
      "text/plain": [
       "      Name  Age      Native  Salary\n",
       "0     Indu   66    Alamanda   50000\n",
       "1    Bindu   70  Srikakulam   60000\n",
       "2  Meghana   29       Vizag   70000\n",
       "3     Vinu   55     Bheemli  100000"
      ]
     },
     "execution_count": 27,
     "metadata": {},
     "output_type": "execute_result"
    }
   ],
   "source": [
    "# Modify an existing column\n",
    "df['Age'] = df['Age'] + 10\n",
    "df"
   ]
  },
  {
   "cell_type": "code",
   "execution_count": 28,
   "id": "700caf7e-3bcb-4e74-9f9b-55338c628727",
   "metadata": {},
   "outputs": [
    {
     "data": {
      "text/html": [
       "<div>\n",
       "<style scoped>\n",
       "    .dataframe tbody tr th:only-of-type {\n",
       "        vertical-align: middle;\n",
       "    }\n",
       "\n",
       "    .dataframe tbody tr th {\n",
       "        vertical-align: top;\n",
       "    }\n",
       "\n",
       "    .dataframe thead th {\n",
       "        text-align: right;\n",
       "    }\n",
       "</style>\n",
       "<table border=\"1\" class=\"dataframe\">\n",
       "  <thead>\n",
       "    <tr style=\"text-align: right;\">\n",
       "      <th></th>\n",
       "      <th>Name</th>\n",
       "      <th>Age</th>\n",
       "      <th>Native</th>\n",
       "    </tr>\n",
       "  </thead>\n",
       "  <tbody>\n",
       "    <tr>\n",
       "      <th>0</th>\n",
       "      <td>Indu</td>\n",
       "      <td>66</td>\n",
       "      <td>Alamanda</td>\n",
       "    </tr>\n",
       "    <tr>\n",
       "      <th>1</th>\n",
       "      <td>Bindu</td>\n",
       "      <td>70</td>\n",
       "      <td>Srikakulam</td>\n",
       "    </tr>\n",
       "    <tr>\n",
       "      <th>2</th>\n",
       "      <td>Meghana</td>\n",
       "      <td>29</td>\n",
       "      <td>Vizag</td>\n",
       "    </tr>\n",
       "    <tr>\n",
       "      <th>3</th>\n",
       "      <td>Vinu</td>\n",
       "      <td>55</td>\n",
       "      <td>Bheemli</td>\n",
       "    </tr>\n",
       "  </tbody>\n",
       "</table>\n",
       "</div>"
      ],
      "text/plain": [
       "      Name  Age      Native\n",
       "0     Indu   66    Alamanda\n",
       "1    Bindu   70  Srikakulam\n",
       "2  Meghana   29       Vizag\n",
       "3     Vinu   55     Bheemli"
      ]
     },
     "execution_count": 28,
     "metadata": {},
     "output_type": "execute_result"
    }
   ],
   "source": [
    "# Drop a column\n",
    "df = df.drop('Salary', axis=1)\n",
    "df\n"
   ]
  },
  {
   "cell_type": "code",
   "execution_count": 29,
   "id": "75c699f0-72a9-47f4-b6f3-428d21610b17",
   "metadata": {},
   "outputs": [
    {
     "data": {
      "text/html": [
       "<div>\n",
       "<style scoped>\n",
       "    .dataframe tbody tr th:only-of-type {\n",
       "        vertical-align: middle;\n",
       "    }\n",
       "\n",
       "    .dataframe tbody tr th {\n",
       "        vertical-align: top;\n",
       "    }\n",
       "\n",
       "    .dataframe thead th {\n",
       "        text-align: right;\n",
       "    }\n",
       "</style>\n",
       "<table border=\"1\" class=\"dataframe\">\n",
       "  <thead>\n",
       "    <tr style=\"text-align: right;\">\n",
       "      <th></th>\n",
       "      <th>Name</th>\n",
       "      <th>Age</th>\n",
       "      <th>Native</th>\n",
       "    </tr>\n",
       "  </thead>\n",
       "  <tbody>\n",
       "    <tr>\n",
       "      <th>1</th>\n",
       "      <td>Bindu</td>\n",
       "      <td>70</td>\n",
       "      <td>Srikakulam</td>\n",
       "    </tr>\n",
       "    <tr>\n",
       "      <th>2</th>\n",
       "      <td>Meghana</td>\n",
       "      <td>29</td>\n",
       "      <td>Vizag</td>\n",
       "    </tr>\n",
       "    <tr>\n",
       "      <th>3</th>\n",
       "      <td>Vinu</td>\n",
       "      <td>55</td>\n",
       "      <td>Bheemli</td>\n",
       "    </tr>\n",
       "  </tbody>\n",
       "</table>\n",
       "</div>"
      ],
      "text/plain": [
       "      Name  Age      Native\n",
       "1    Bindu   70  Srikakulam\n",
       "2  Meghana   29       Vizag\n",
       "3     Vinu   55     Bheemli"
      ]
     },
     "execution_count": 29,
     "metadata": {},
     "output_type": "execute_result"
    }
   ],
   "source": [
    "# Drop a row by index\n",
    "df = df.drop(0, axis=0)\n",
    "df"
   ]
  },
  {
   "cell_type": "markdown",
   "id": "77fc2a10-3997-4903-a2cc-8504fb6ba7eb",
   "metadata": {},
   "source": [
    "## 2.Data Handling with pandas"
   ]
  },
  {
   "cell_type": "code",
   "execution_count": 30,
   "id": "0fb46495-90de-4cef-ab0f-9df72f1d0bba",
   "metadata": {},
   "outputs": [
    {
     "data": {
      "text/html": [
       "<div>\n",
       "<style scoped>\n",
       "    .dataframe tbody tr th:only-of-type {\n",
       "        vertical-align: middle;\n",
       "    }\n",
       "\n",
       "    .dataframe tbody tr th {\n",
       "        vertical-align: top;\n",
       "    }\n",
       "\n",
       "    .dataframe thead th {\n",
       "        text-align: right;\n",
       "    }\n",
       "</style>\n",
       "<table border=\"1\" class=\"dataframe\">\n",
       "  <thead>\n",
       "    <tr style=\"text-align: right;\">\n",
       "      <th></th>\n",
       "      <th>0</th>\n",
       "      <th>1</th>\n",
       "      <th>2</th>\n",
       "    </tr>\n",
       "  </thead>\n",
       "  <tbody>\n",
       "    <tr>\n",
       "      <th>0</th>\n",
       "      <td>1.0</td>\n",
       "      <td>6.5</td>\n",
       "      <td>3.0</td>\n",
       "    </tr>\n",
       "    <tr>\n",
       "      <th>1</th>\n",
       "      <td>1.0</td>\n",
       "      <td>NaN</td>\n",
       "      <td>NaN</td>\n",
       "    </tr>\n",
       "    <tr>\n",
       "      <th>2</th>\n",
       "      <td>NaN</td>\n",
       "      <td>NaN</td>\n",
       "      <td>NaN</td>\n",
       "    </tr>\n",
       "    <tr>\n",
       "      <th>3</th>\n",
       "      <td>NaN</td>\n",
       "      <td>6.5</td>\n",
       "      <td>3.0</td>\n",
       "    </tr>\n",
       "  </tbody>\n",
       "</table>\n",
       "</div>"
      ],
      "text/plain": [
       "     0    1    2\n",
       "0  1.0  6.5  3.0\n",
       "1  1.0  NaN  NaN\n",
       "2  NaN  NaN  NaN\n",
       "3  NaN  6.5  3.0"
      ]
     },
     "execution_count": 30,
     "metadata": {},
     "output_type": "execute_result"
    }
   ],
   "source": [
    "import numpy as np\n",
    "#creating a data frame with null values using numpy\n",
    "data = pd.DataFrame([[1., 6.5, 3.], [1., np.nan, np.nan], \n",
    "                     [np.nan, np.nan, np.nan], [np.nan, 6.5, 3.]])\n",
    "data"
   ]
  },
  {
   "cell_type": "code",
   "execution_count": 32,
   "id": "12b09d61-b921-4112-b1e2-bc5957fd5025",
   "metadata": {},
   "outputs": [
    {
     "data": {
      "text/html": [
       "<div>\n",
       "<style scoped>\n",
       "    .dataframe tbody tr th:only-of-type {\n",
       "        vertical-align: middle;\n",
       "    }\n",
       "\n",
       "    .dataframe tbody tr th {\n",
       "        vertical-align: top;\n",
       "    }\n",
       "\n",
       "    .dataframe thead th {\n",
       "        text-align: right;\n",
       "    }\n",
       "</style>\n",
       "<table border=\"1\" class=\"dataframe\">\n",
       "  <thead>\n",
       "    <tr style=\"text-align: right;\">\n",
       "      <th></th>\n",
       "      <th>0</th>\n",
       "      <th>1</th>\n",
       "      <th>2</th>\n",
       "    </tr>\n",
       "  </thead>\n",
       "  <tbody>\n",
       "    <tr>\n",
       "      <th>0</th>\n",
       "      <td>False</td>\n",
       "      <td>False</td>\n",
       "      <td>False</td>\n",
       "    </tr>\n",
       "    <tr>\n",
       "      <th>1</th>\n",
       "      <td>False</td>\n",
       "      <td>True</td>\n",
       "      <td>True</td>\n",
       "    </tr>\n",
       "    <tr>\n",
       "      <th>2</th>\n",
       "      <td>True</td>\n",
       "      <td>True</td>\n",
       "      <td>True</td>\n",
       "    </tr>\n",
       "    <tr>\n",
       "      <th>3</th>\n",
       "      <td>True</td>\n",
       "      <td>False</td>\n",
       "      <td>False</td>\n",
       "    </tr>\n",
       "  </tbody>\n",
       "</table>\n",
       "</div>"
      ],
      "text/plain": [
       "       0      1      2\n",
       "0  False  False  False\n",
       "1  False   True   True\n",
       "2   True   True   True\n",
       "3   True  False  False"
      ]
     },
     "execution_count": 32,
     "metadata": {},
     "output_type": "execute_result"
    }
   ],
   "source": [
    "# Check for missing values in the DataFrame\n",
    "data.isnull()"
   ]
  },
  {
   "cell_type": "code",
   "execution_count": 35,
   "id": "825e37de-3201-48a9-a89c-984ec5293674",
   "metadata": {},
   "outputs": [
    {
     "data": {
      "text/plain": [
       "0    2\n",
       "1    2\n",
       "2    2\n",
       "dtype: int64"
      ]
     },
     "execution_count": 35,
     "metadata": {},
     "output_type": "execute_result"
    }
   ],
   "source": [
    "#number of null values\n",
    "data.isnull().sum()"
   ]
  },
  {
   "cell_type": "markdown",
   "id": "7f8acbc7-dad3-441b-96d2-26e32c6c60d9",
   "metadata": {},
   "source": [
    "#### Filling Missing values"
   ]
  },
  {
   "cell_type": "code",
   "execution_count": 36,
   "id": "8dffe7c9-a983-4099-b8bf-477ccbb7ac5e",
   "metadata": {},
   "outputs": [
    {
     "data": {
      "text/html": [
       "<div>\n",
       "<style scoped>\n",
       "    .dataframe tbody tr th:only-of-type {\n",
       "        vertical-align: middle;\n",
       "    }\n",
       "\n",
       "    .dataframe tbody tr th {\n",
       "        vertical-align: top;\n",
       "    }\n",
       "\n",
       "    .dataframe thead th {\n",
       "        text-align: right;\n",
       "    }\n",
       "</style>\n",
       "<table border=\"1\" class=\"dataframe\">\n",
       "  <thead>\n",
       "    <tr style=\"text-align: right;\">\n",
       "      <th></th>\n",
       "      <th>0</th>\n",
       "      <th>1</th>\n",
       "      <th>2</th>\n",
       "    </tr>\n",
       "  </thead>\n",
       "  <tbody>\n",
       "    <tr>\n",
       "      <th>0</th>\n",
       "      <td>1.0</td>\n",
       "      <td>6.5</td>\n",
       "      <td>3.0</td>\n",
       "    </tr>\n",
       "    <tr>\n",
       "      <th>1</th>\n",
       "      <td>1.0</td>\n",
       "      <td>0.0</td>\n",
       "      <td>0.0</td>\n",
       "    </tr>\n",
       "    <tr>\n",
       "      <th>2</th>\n",
       "      <td>0.0</td>\n",
       "      <td>0.0</td>\n",
       "      <td>0.0</td>\n",
       "    </tr>\n",
       "    <tr>\n",
       "      <th>3</th>\n",
       "      <td>0.0</td>\n",
       "      <td>6.5</td>\n",
       "      <td>3.0</td>\n",
       "    </tr>\n",
       "  </tbody>\n",
       "</table>\n",
       "</div>"
      ],
      "text/plain": [
       "     0    1    2\n",
       "0  1.0  6.5  3.0\n",
       "1  1.0  0.0  0.0\n",
       "2  0.0  0.0  0.0\n",
       "3  0.0  6.5  3.0"
      ]
     },
     "execution_count": 36,
     "metadata": {},
     "output_type": "execute_result"
    }
   ],
   "source": [
    "#filling all the missing values with 1\n",
    "data.fillna(0)"
   ]
  },
  {
   "cell_type": "code",
   "execution_count": 39,
   "id": "79ce4797-db67-47db-bf87-74afae4240d1",
   "metadata": {},
   "outputs": [
    {
     "data": {
      "text/html": [
       "<div>\n",
       "<style scoped>\n",
       "    .dataframe tbody tr th:only-of-type {\n",
       "        vertical-align: middle;\n",
       "    }\n",
       "\n",
       "    .dataframe tbody tr th {\n",
       "        vertical-align: top;\n",
       "    }\n",
       "\n",
       "    .dataframe thead th {\n",
       "        text-align: right;\n",
       "    }\n",
       "</style>\n",
       "<table border=\"1\" class=\"dataframe\">\n",
       "  <thead>\n",
       "    <tr style=\"text-align: right;\">\n",
       "      <th></th>\n",
       "      <th>0</th>\n",
       "      <th>1</th>\n",
       "      <th>2</th>\n",
       "    </tr>\n",
       "  </thead>\n",
       "  <tbody>\n",
       "    <tr>\n",
       "      <th>0</th>\n",
       "      <td>1.0</td>\n",
       "      <td>6.5</td>\n",
       "      <td>3.0</td>\n",
       "    </tr>\n",
       "    <tr>\n",
       "      <th>1</th>\n",
       "      <td>1.0</td>\n",
       "      <td>6.5</td>\n",
       "      <td>3.0</td>\n",
       "    </tr>\n",
       "    <tr>\n",
       "      <th>2</th>\n",
       "      <td>1.0</td>\n",
       "      <td>6.5</td>\n",
       "      <td>3.0</td>\n",
       "    </tr>\n",
       "    <tr>\n",
       "      <th>3</th>\n",
       "      <td>1.0</td>\n",
       "      <td>6.5</td>\n",
       "      <td>3.0</td>\n",
       "    </tr>\n",
       "  </tbody>\n",
       "</table>\n",
       "</div>"
      ],
      "text/plain": [
       "     0    1    2\n",
       "0  1.0  6.5  3.0\n",
       "1  1.0  6.5  3.0\n",
       "2  1.0  6.5  3.0\n",
       "3  1.0  6.5  3.0"
      ]
     },
     "execution_count": 39,
     "metadata": {},
     "output_type": "execute_result"
    }
   ],
   "source": [
    "#filling with mean\n",
    "data.fillna(data.mean())"
   ]
  },
  {
   "cell_type": "code",
   "execution_count": 41,
   "id": "f8451734-7163-4767-909a-538a7e64c689",
   "metadata": {},
   "outputs": [
    {
     "data": {
      "text/html": [
       "<div>\n",
       "<style scoped>\n",
       "    .dataframe tbody tr th:only-of-type {\n",
       "        vertical-align: middle;\n",
       "    }\n",
       "\n",
       "    .dataframe tbody tr th {\n",
       "        vertical-align: top;\n",
       "    }\n",
       "\n",
       "    .dataframe thead th {\n",
       "        text-align: right;\n",
       "    }\n",
       "</style>\n",
       "<table border=\"1\" class=\"dataframe\">\n",
       "  <thead>\n",
       "    <tr style=\"text-align: right;\">\n",
       "      <th></th>\n",
       "      <th>0</th>\n",
       "      <th>1</th>\n",
       "      <th>2</th>\n",
       "    </tr>\n",
       "  </thead>\n",
       "  <tbody>\n",
       "    <tr>\n",
       "      <th>0</th>\n",
       "      <td>1.0</td>\n",
       "      <td>6.5</td>\n",
       "      <td>3.0</td>\n",
       "    </tr>\n",
       "    <tr>\n",
       "      <th>1</th>\n",
       "      <td>1.0</td>\n",
       "      <td>0.0</td>\n",
       "      <td>1.2</td>\n",
       "    </tr>\n",
       "    <tr>\n",
       "      <th>2</th>\n",
       "      <td>0.5</td>\n",
       "      <td>0.0</td>\n",
       "      <td>1.2</td>\n",
       "    </tr>\n",
       "    <tr>\n",
       "      <th>3</th>\n",
       "      <td>0.5</td>\n",
       "      <td>6.5</td>\n",
       "      <td>3.0</td>\n",
       "    </tr>\n",
       "  </tbody>\n",
       "</table>\n",
       "</div>"
      ],
      "text/plain": [
       "     0    1    2\n",
       "0  1.0  6.5  3.0\n",
       "1  1.0  0.0  1.2\n",
       "2  0.5  0.0  1.2\n",
       "3  0.5  6.5  3.0"
      ]
     },
     "execution_count": 41,
     "metadata": {},
     "output_type": "execute_result"
    }
   ],
   "source": [
    "#different fill value for each column\n",
    "data.fillna({0:0.5,1:0,2:1.2})"
   ]
  },
  {
   "cell_type": "markdown",
   "id": "ba050402-be68-46ef-b6b2-df1698e0053f",
   "metadata": {},
   "source": [
    "#### Dropping rows and columns"
   ]
  },
  {
   "cell_type": "code",
   "execution_count": 43,
   "id": "3b2dd77c-911c-4062-a591-6dc7c1fb7bea",
   "metadata": {},
   "outputs": [
    {
     "data": {
      "text/html": [
       "<div>\n",
       "<style scoped>\n",
       "    .dataframe tbody tr th:only-of-type {\n",
       "        vertical-align: middle;\n",
       "    }\n",
       "\n",
       "    .dataframe tbody tr th {\n",
       "        vertical-align: top;\n",
       "    }\n",
       "\n",
       "    .dataframe thead th {\n",
       "        text-align: right;\n",
       "    }\n",
       "</style>\n",
       "<table border=\"1\" class=\"dataframe\">\n",
       "  <thead>\n",
       "    <tr style=\"text-align: right;\">\n",
       "      <th></th>\n",
       "      <th>0</th>\n",
       "      <th>1</th>\n",
       "      <th>2</th>\n",
       "    </tr>\n",
       "  </thead>\n",
       "  <tbody>\n",
       "    <tr>\n",
       "      <th>0</th>\n",
       "      <td>1.0</td>\n",
       "      <td>6.5</td>\n",
       "      <td>3.0</td>\n",
       "    </tr>\n",
       "    <tr>\n",
       "      <th>1</th>\n",
       "      <td>1.0</td>\n",
       "      <td>NaN</td>\n",
       "      <td>NaN</td>\n",
       "    </tr>\n",
       "    <tr>\n",
       "      <th>3</th>\n",
       "      <td>NaN</td>\n",
       "      <td>6.5</td>\n",
       "      <td>3.0</td>\n",
       "    </tr>\n",
       "  </tbody>\n",
       "</table>\n",
       "</div>"
      ],
      "text/plain": [
       "     0    1    2\n",
       "0  1.0  6.5  3.0\n",
       "1  1.0  NaN  NaN\n",
       "3  NaN  6.5  3.0"
      ]
     },
     "execution_count": 43,
     "metadata": {},
     "output_type": "execute_result"
    }
   ],
   "source": [
    "# Dropping rows where all elements are missing\n",
    "data.dropna(how='all', inplace=True)\n",
    "data"
   ]
  },
  {
   "cell_type": "code",
   "execution_count": 44,
   "id": "1963306e-a265-4226-b14e-91dfaa57e074",
   "metadata": {},
   "outputs": [
    {
     "data": {
      "text/html": [
       "<div>\n",
       "<style scoped>\n",
       "    .dataframe tbody tr th:only-of-type {\n",
       "        vertical-align: middle;\n",
       "    }\n",
       "\n",
       "    .dataframe tbody tr th {\n",
       "        vertical-align: top;\n",
       "    }\n",
       "\n",
       "    .dataframe thead th {\n",
       "        text-align: right;\n",
       "    }\n",
       "</style>\n",
       "<table border=\"1\" class=\"dataframe\">\n",
       "  <thead>\n",
       "    <tr style=\"text-align: right;\">\n",
       "      <th></th>\n",
       "      <th>0</th>\n",
       "      <th>1</th>\n",
       "      <th>2</th>\n",
       "    </tr>\n",
       "  </thead>\n",
       "  <tbody>\n",
       "    <tr>\n",
       "      <th>0</th>\n",
       "      <td>1.0</td>\n",
       "      <td>6.5</td>\n",
       "      <td>3.0</td>\n",
       "    </tr>\n",
       "  </tbody>\n",
       "</table>\n",
       "</div>"
      ],
      "text/plain": [
       "     0    1    2\n",
       "0  1.0  6.5  3.0"
      ]
     },
     "execution_count": 44,
     "metadata": {},
     "output_type": "execute_result"
    }
   ],
   "source": [
    "# Dropping rows where atleast one element is missing\n",
    "data.dropna(how='any', inplace=True)\n",
    "data"
   ]
  },
  {
   "cell_type": "markdown",
   "id": "4ea6cec9-3688-452c-bb21-ff2c29c9d4eb",
   "metadata": {},
   "source": [
    "####  Transforming Data"
   ]
  },
  {
   "cell_type": "code",
   "execution_count": 51,
   "id": "b1e38df2-05ee-449c-9fe3-1a498d6b3ddc",
   "metadata": {},
   "outputs": [
    {
     "data": {
      "text/html": [
       "<div>\n",
       "<style scoped>\n",
       "    .dataframe tbody tr th:only-of-type {\n",
       "        vertical-align: middle;\n",
       "    }\n",
       "\n",
       "    .dataframe tbody tr th {\n",
       "        vertical-align: top;\n",
       "    }\n",
       "\n",
       "    .dataframe thead th {\n",
       "        text-align: right;\n",
       "    }\n",
       "</style>\n",
       "<table border=\"1\" class=\"dataframe\">\n",
       "  <thead>\n",
       "    <tr style=\"text-align: right;\">\n",
       "      <th></th>\n",
       "      <th>Name</th>\n",
       "      <th>Age</th>\n",
       "      <th>Native</th>\n",
       "      <th>salary</th>\n",
       "    </tr>\n",
       "  </thead>\n",
       "  <tbody>\n",
       "    <tr>\n",
       "      <th>1</th>\n",
       "      <td>Bindu</td>\n",
       "      <td>70</td>\n",
       "      <td>Srikakulam</td>\n",
       "      <td>50000</td>\n",
       "    </tr>\n",
       "    <tr>\n",
       "      <th>2</th>\n",
       "      <td>Meghana</td>\n",
       "      <td>29</td>\n",
       "      <td>Vizag</td>\n",
       "      <td>60000</td>\n",
       "    </tr>\n",
       "    <tr>\n",
       "      <th>3</th>\n",
       "      <td>Vinu</td>\n",
       "      <td>55</td>\n",
       "      <td>Bheemli</td>\n",
       "      <td>70000</td>\n",
       "    </tr>\n",
       "  </tbody>\n",
       "</table>\n",
       "</div>"
      ],
      "text/plain": [
       "      Name  Age      Native  salary\n",
       "1    Bindu   70  Srikakulam   50000\n",
       "2  Meghana   29       Vizag   60000\n",
       "3     Vinu   55     Bheemli   70000"
      ]
     },
     "execution_count": 51,
     "metadata": {},
     "output_type": "execute_result"
    }
   ],
   "source": [
    "df['salary'] = [50000, 60000, 70000]\n",
    "df"
   ]
  },
  {
   "cell_type": "code",
   "execution_count": 52,
   "id": "9e56d6db-61a8-44a0-878e-a25aac3ddbce",
   "metadata": {},
   "outputs": [
    {
     "data": {
      "text/html": [
       "<div>\n",
       "<style scoped>\n",
       "    .dataframe tbody tr th:only-of-type {\n",
       "        vertical-align: middle;\n",
       "    }\n",
       "\n",
       "    .dataframe tbody tr th {\n",
       "        vertical-align: top;\n",
       "    }\n",
       "\n",
       "    .dataframe thead th {\n",
       "        text-align: right;\n",
       "    }\n",
       "</style>\n",
       "<table border=\"1\" class=\"dataframe\">\n",
       "  <thead>\n",
       "    <tr style=\"text-align: right;\">\n",
       "      <th></th>\n",
       "      <th>Name</th>\n",
       "      <th>Age</th>\n",
       "      <th>Native</th>\n",
       "      <th>salary</th>\n",
       "      <th>Annual Salary</th>\n",
       "    </tr>\n",
       "  </thead>\n",
       "  <tbody>\n",
       "    <tr>\n",
       "      <th>1</th>\n",
       "      <td>Bindu</td>\n",
       "      <td>70</td>\n",
       "      <td>Srikakulam</td>\n",
       "      <td>50000</td>\n",
       "      <td>600000</td>\n",
       "    </tr>\n",
       "    <tr>\n",
       "      <th>2</th>\n",
       "      <td>Meghana</td>\n",
       "      <td>29</td>\n",
       "      <td>Vizag</td>\n",
       "      <td>60000</td>\n",
       "      <td>720000</td>\n",
       "    </tr>\n",
       "    <tr>\n",
       "      <th>3</th>\n",
       "      <td>Vinu</td>\n",
       "      <td>55</td>\n",
       "      <td>Bheemli</td>\n",
       "      <td>70000</td>\n",
       "      <td>840000</td>\n",
       "    </tr>\n",
       "  </tbody>\n",
       "</table>\n",
       "</div>"
      ],
      "text/plain": [
       "      Name  Age      Native  salary  Annual Salary\n",
       "1    Bindu   70  Srikakulam   50000         600000\n",
       "2  Meghana   29       Vizag   60000         720000\n",
       "3     Vinu   55     Bheemli   70000         840000"
      ]
     },
     "execution_count": 52,
     "metadata": {},
     "output_type": "execute_result"
    }
   ],
   "source": [
    "# Adding a new column 'Annual Salary' calculated from the 'Salary' column (assuming 'Salary' is monthly)\n",
    "df['Annual Salary'] = df['salary'] * 12\n",
    "df"
   ]
  },
  {
   "cell_type": "markdown",
   "id": "b2447875-44d5-4012-961f-3acf57a9333d",
   "metadata": {},
   "source": [
    "## 3.Data Analysis with Pandas"
   ]
  },
  {
   "cell_type": "code",
   "execution_count": 53,
   "id": "20fb0f5d-835a-4a2f-b180-494053417c66",
   "metadata": {},
   "outputs": [
    {
     "data": {
      "text/html": [
       "<div>\n",
       "<style scoped>\n",
       "    .dataframe tbody tr th:only-of-type {\n",
       "        vertical-align: middle;\n",
       "    }\n",
       "\n",
       "    .dataframe tbody tr th {\n",
       "        vertical-align: top;\n",
       "    }\n",
       "\n",
       "    .dataframe thead th {\n",
       "        text-align: right;\n",
       "    }\n",
       "</style>\n",
       "<table border=\"1\" class=\"dataframe\">\n",
       "  <thead>\n",
       "    <tr style=\"text-align: right;\">\n",
       "      <th></th>\n",
       "      <th>Player_ID</th>\n",
       "      <th>Player_Name</th>\n",
       "      <th>Team</th>\n",
       "      <th>Runs</th>\n",
       "      <th>Matches</th>\n",
       "    </tr>\n",
       "  </thead>\n",
       "  <tbody>\n",
       "    <tr>\n",
       "      <th>0</th>\n",
       "      <td>1</td>\n",
       "      <td>Virat Kohli</td>\n",
       "      <td>RCB</td>\n",
       "      <td>670</td>\n",
       "      <td>14</td>\n",
       "    </tr>\n",
       "    <tr>\n",
       "      <th>1</th>\n",
       "      <td>2</td>\n",
       "      <td>Rohit Sharma</td>\n",
       "      <td>MI</td>\n",
       "      <td>540</td>\n",
       "      <td>14</td>\n",
       "    </tr>\n",
       "    <tr>\n",
       "      <th>2</th>\n",
       "      <td>3</td>\n",
       "      <td>MS Dhoni</td>\n",
       "      <td>CSK</td>\n",
       "      <td>450</td>\n",
       "      <td>12</td>\n",
       "    </tr>\n",
       "    <tr>\n",
       "      <th>3</th>\n",
       "      <td>4</td>\n",
       "      <td>KL Rahul</td>\n",
       "      <td>LSG</td>\n",
       "      <td>600</td>\n",
       "      <td>13</td>\n",
       "    </tr>\n",
       "  </tbody>\n",
       "</table>\n",
       "</div>"
      ],
      "text/plain": [
       "   Player_ID   Player_Name Team  Runs  Matches\n",
       "0          1   Virat Kohli  RCB   670       14\n",
       "1          2  Rohit Sharma   MI   540       14\n",
       "2          3      MS Dhoni  CSK   450       12\n",
       "3          4      KL Rahul  LSG   600       13"
      ]
     },
     "execution_count": 53,
     "metadata": {},
     "output_type": "execute_result"
    }
   ],
   "source": [
    "#considering a part of ipl data frame\n",
    "df1 = pd.DataFrame({\n",
    "    'Player_ID': [1, 2, 3, 4],\n",
    "    'Player_Name': ['Virat Kohli', 'Rohit Sharma', 'MS Dhoni', 'KL Rahul'],\n",
    "    'Team': ['RCB', 'MI', 'CSK', 'LSG'],\n",
    "    'Runs': [670, 540, 450, 600],\n",
    "    'Matches': [14, 14, 12, 13]\n",
    "})\n",
    "df1"
   ]
  },
  {
   "cell_type": "code",
   "execution_count": 55,
   "id": "81c67cd9-de8e-4e60-b082-4d7453df6af0",
   "metadata": {},
   "outputs": [
    {
     "data": {
      "text/html": [
       "<div>\n",
       "<style scoped>\n",
       "    .dataframe tbody tr th:only-of-type {\n",
       "        vertical-align: middle;\n",
       "    }\n",
       "\n",
       "    .dataframe tbody tr th {\n",
       "        vertical-align: top;\n",
       "    }\n",
       "\n",
       "    .dataframe thead th {\n",
       "        text-align: right;\n",
       "    }\n",
       "</style>\n",
       "<table border=\"1\" class=\"dataframe\">\n",
       "  <thead>\n",
       "    <tr style=\"text-align: right;\">\n",
       "      <th></th>\n",
       "      <th>Player_ID</th>\n",
       "      <th>Player_Name</th>\n",
       "      <th>Team</th>\n",
       "      <th>Wickets</th>\n",
       "      <th>Matches</th>\n",
       "    </tr>\n",
       "  </thead>\n",
       "  <tbody>\n",
       "    <tr>\n",
       "      <th>0</th>\n",
       "      <td>3</td>\n",
       "      <td>MS Dhoni</td>\n",
       "      <td>CSK</td>\n",
       "      <td>5</td>\n",
       "      <td>12</td>\n",
       "    </tr>\n",
       "    <tr>\n",
       "      <th>1</th>\n",
       "      <td>4</td>\n",
       "      <td>KL Rahul</td>\n",
       "      <td>LSG</td>\n",
       "      <td>0</td>\n",
       "      <td>13</td>\n",
       "    </tr>\n",
       "    <tr>\n",
       "      <th>2</th>\n",
       "      <td>5</td>\n",
       "      <td>David Warner</td>\n",
       "      <td>SRH</td>\n",
       "      <td>3</td>\n",
       "      <td>14</td>\n",
       "    </tr>\n",
       "    <tr>\n",
       "      <th>3</th>\n",
       "      <td>6</td>\n",
       "      <td>AB de Villiers</td>\n",
       "      <td>RCB</td>\n",
       "      <td>2</td>\n",
       "      <td>11</td>\n",
       "    </tr>\n",
       "  </tbody>\n",
       "</table>\n",
       "</div>"
      ],
      "text/plain": [
       "   Player_ID     Player_Name Team  Wickets  Matches\n",
       "0          3        MS Dhoni  CSK        5       12\n",
       "1          4        KL Rahul  LSG        0       13\n",
       "2          5    David Warner  SRH        3       14\n",
       "3          6  AB de Villiers  RCB        2       11"
      ]
     },
     "execution_count": 55,
     "metadata": {},
     "output_type": "execute_result"
    }
   ],
   "source": [
    "df2 = pd.DataFrame({\n",
    "    'Player_ID': [3, 4, 5, 6],\n",
    "    'Player_Name': ['MS Dhoni', 'KL Rahul', 'David Warner', 'AB de Villiers'],\n",
    "    'Team': ['CSK', 'LSG', 'SRH', 'RCB'],\n",
    "    'Wickets': [5, 0, 3, 2],\n",
    "    'Matches': [12, 13, 14, 11]\n",
    "})\n",
    "df2"
   ]
  },
  {
   "cell_type": "code",
   "execution_count": 57,
   "id": "efdd0fd3-0b09-486c-bf93-db804eb26011",
   "metadata": {},
   "outputs": [
    {
     "data": {
      "text/html": [
       "<div>\n",
       "<style scoped>\n",
       "    .dataframe tbody tr th:only-of-type {\n",
       "        vertical-align: middle;\n",
       "    }\n",
       "\n",
       "    .dataframe tbody tr th {\n",
       "        vertical-align: top;\n",
       "    }\n",
       "\n",
       "    .dataframe thead th {\n",
       "        text-align: right;\n",
       "    }\n",
       "</style>\n",
       "<table border=\"1\" class=\"dataframe\">\n",
       "  <thead>\n",
       "    <tr style=\"text-align: right;\">\n",
       "      <th></th>\n",
       "      <th>Player_ID</th>\n",
       "      <th>Runs</th>\n",
       "      <th>Matches</th>\n",
       "    </tr>\n",
       "  </thead>\n",
       "  <tbody>\n",
       "    <tr>\n",
       "      <th>count</th>\n",
       "      <td>4.000000</td>\n",
       "      <td>4.000000</td>\n",
       "      <td>4.000000</td>\n",
       "    </tr>\n",
       "    <tr>\n",
       "      <th>mean</th>\n",
       "      <td>2.500000</td>\n",
       "      <td>565.000000</td>\n",
       "      <td>13.250000</td>\n",
       "    </tr>\n",
       "    <tr>\n",
       "      <th>std</th>\n",
       "      <td>1.290994</td>\n",
       "      <td>93.273791</td>\n",
       "      <td>0.957427</td>\n",
       "    </tr>\n",
       "    <tr>\n",
       "      <th>min</th>\n",
       "      <td>1.000000</td>\n",
       "      <td>450.000000</td>\n",
       "      <td>12.000000</td>\n",
       "    </tr>\n",
       "    <tr>\n",
       "      <th>25%</th>\n",
       "      <td>1.750000</td>\n",
       "      <td>517.500000</td>\n",
       "      <td>12.750000</td>\n",
       "    </tr>\n",
       "    <tr>\n",
       "      <th>50%</th>\n",
       "      <td>2.500000</td>\n",
       "      <td>570.000000</td>\n",
       "      <td>13.500000</td>\n",
       "    </tr>\n",
       "    <tr>\n",
       "      <th>75%</th>\n",
       "      <td>3.250000</td>\n",
       "      <td>617.500000</td>\n",
       "      <td>14.000000</td>\n",
       "    </tr>\n",
       "    <tr>\n",
       "      <th>max</th>\n",
       "      <td>4.000000</td>\n",
       "      <td>670.000000</td>\n",
       "      <td>14.000000</td>\n",
       "    </tr>\n",
       "  </tbody>\n",
       "</table>\n",
       "</div>"
      ],
      "text/plain": [
       "       Player_ID        Runs    Matches\n",
       "count   4.000000    4.000000   4.000000\n",
       "mean    2.500000  565.000000  13.250000\n",
       "std     1.290994   93.273791   0.957427\n",
       "min     1.000000  450.000000  12.000000\n",
       "25%     1.750000  517.500000  12.750000\n",
       "50%     2.500000  570.000000  13.500000\n",
       "75%     3.250000  617.500000  14.000000\n",
       "max     4.000000  670.000000  14.000000"
      ]
     },
     "execution_count": 57,
     "metadata": {},
     "output_type": "execute_result"
    }
   ],
   "source": [
    "#description of dataset using statistical measures\n",
    "df1.describe()"
   ]
  },
  {
   "cell_type": "code",
   "execution_count": 60,
   "id": "4d252427-89f7-4ad0-aef1-d53ae84968fd",
   "metadata": {},
   "outputs": [
    {
     "data": {
      "text/plain": [
       "Team\n",
       "CSK    450.0\n",
       "LSG    600.0\n",
       "MI     540.0\n",
       "RCB    670.0\n",
       "Name: Runs, dtype: float64"
      ]
     },
     "execution_count": 60,
     "metadata": {},
     "output_type": "execute_result"
    }
   ],
   "source": [
    "#grouping the data and applying aggregate functions\n",
    "# Group by 'Team' and calculate the mean runs scored\n",
    "grouped_runs = df1.groupby('Team')['Runs'].mean()\n",
    "grouped_runs"
   ]
  },
  {
   "cell_type": "code",
   "execution_count": 59,
   "id": "200b1a90-1682-4d0b-bbcc-18b4ada063a5",
   "metadata": {},
   "outputs": [
    {
     "data": {
      "text/plain": [
       "Team\n",
       "CSK    1\n",
       "LSG    1\n",
       "MI     1\n",
       "RCB    1\n",
       "Name: Player_Name, dtype: int64"
      ]
     },
     "execution_count": 59,
     "metadata": {},
     "output_type": "execute_result"
    }
   ],
   "source": [
    "# Group by 'Team' and get the count of players in each team\n",
    "grouped_count = df1.groupby('Team')['Player_Name'].count()\n",
    "grouped_count"
   ]
  },
  {
   "cell_type": "markdown",
   "id": "8e43756c-7f8c-4ab9-8b6c-ad69b7ac98d9",
   "metadata": {},
   "source": [
    "#### Merging Dataframes"
   ]
  },
  {
   "cell_type": "code",
   "execution_count": 61,
   "id": "95380318-9535-44b3-80c8-d9ed04d0a685",
   "metadata": {},
   "outputs": [
    {
     "data": {
      "text/html": [
       "<div>\n",
       "<style scoped>\n",
       "    .dataframe tbody tr th:only-of-type {\n",
       "        vertical-align: middle;\n",
       "    }\n",
       "\n",
       "    .dataframe tbody tr th {\n",
       "        vertical-align: top;\n",
       "    }\n",
       "\n",
       "    .dataframe thead th {\n",
       "        text-align: right;\n",
       "    }\n",
       "</style>\n",
       "<table border=\"1\" class=\"dataframe\">\n",
       "  <thead>\n",
       "    <tr style=\"text-align: right;\">\n",
       "      <th></th>\n",
       "      <th>Player_ID</th>\n",
       "      <th>Player_Name_df1</th>\n",
       "      <th>Team_df1</th>\n",
       "      <th>Runs</th>\n",
       "      <th>Matches_df1</th>\n",
       "      <th>Player_Name_df2</th>\n",
       "      <th>Team_df2</th>\n",
       "      <th>Wickets</th>\n",
       "      <th>Matches_df2</th>\n",
       "    </tr>\n",
       "  </thead>\n",
       "  <tbody>\n",
       "    <tr>\n",
       "      <th>0</th>\n",
       "      <td>3</td>\n",
       "      <td>MS Dhoni</td>\n",
       "      <td>CSK</td>\n",
       "      <td>450</td>\n",
       "      <td>12</td>\n",
       "      <td>MS Dhoni</td>\n",
       "      <td>CSK</td>\n",
       "      <td>5</td>\n",
       "      <td>12</td>\n",
       "    </tr>\n",
       "    <tr>\n",
       "      <th>1</th>\n",
       "      <td>4</td>\n",
       "      <td>KL Rahul</td>\n",
       "      <td>LSG</td>\n",
       "      <td>600</td>\n",
       "      <td>13</td>\n",
       "      <td>KL Rahul</td>\n",
       "      <td>LSG</td>\n",
       "      <td>0</td>\n",
       "      <td>13</td>\n",
       "    </tr>\n",
       "  </tbody>\n",
       "</table>\n",
       "</div>"
      ],
      "text/plain": [
       "   Player_ID Player_Name_df1 Team_df1  Runs  Matches_df1 Player_Name_df2  \\\n",
       "0          3        MS Dhoni      CSK   450           12        MS Dhoni   \n",
       "1          4        KL Rahul      LSG   600           13        KL Rahul   \n",
       "\n",
       "  Team_df2  Wickets  Matches_df2  \n",
       "0      CSK        5           12  \n",
       "1      LSG        0           13  "
      ]
     },
     "execution_count": 61,
     "metadata": {},
     "output_type": "execute_result"
    }
   ],
   "source": [
    "#since df1 and df2 have common column 'Player_ID' we can merge them\n",
    "merged_df = pd.merge(df1, df2, on='Player_ID', suffixes=('_df1', '_df2'))\n",
    "merged_df"
   ]
  },
  {
   "cell_type": "markdown",
   "id": "1de66de9-35d8-4127-b365-c49edbf045f5",
   "metadata": {},
   "source": [
    "#### Joining dataframes"
   ]
  },
  {
   "cell_type": "code",
   "execution_count": 62,
   "id": "1de57e87-78f9-4c87-b877-214b36aa44db",
   "metadata": {},
   "outputs": [],
   "source": [
    "# Set 'Player_ID' as index for joining\n",
    "df1.set_index('Player_ID', inplace=True)\n",
    "df2.set_index('Player_ID', inplace=True)"
   ]
  },
  {
   "cell_type": "code",
   "execution_count": 64,
   "id": "9f11f9f1-a083-4143-aed2-5f05fa958bd6",
   "metadata": {},
   "outputs": [
    {
     "data": {
      "text/html": [
       "<div>\n",
       "<style scoped>\n",
       "    .dataframe tbody tr th:only-of-type {\n",
       "        vertical-align: middle;\n",
       "    }\n",
       "\n",
       "    .dataframe tbody tr th {\n",
       "        vertical-align: top;\n",
       "    }\n",
       "\n",
       "    .dataframe thead th {\n",
       "        text-align: right;\n",
       "    }\n",
       "</style>\n",
       "<table border=\"1\" class=\"dataframe\">\n",
       "  <thead>\n",
       "    <tr style=\"text-align: right;\">\n",
       "      <th></th>\n",
       "      <th>Player_Name_df1</th>\n",
       "      <th>Team_df1</th>\n",
       "      <th>Runs</th>\n",
       "      <th>Matches_df1</th>\n",
       "      <th>Player_Name_df2</th>\n",
       "      <th>Team_df2</th>\n",
       "      <th>Wickets</th>\n",
       "      <th>Matches_df2</th>\n",
       "    </tr>\n",
       "    <tr>\n",
       "      <th>Player_ID</th>\n",
       "      <th></th>\n",
       "      <th></th>\n",
       "      <th></th>\n",
       "      <th></th>\n",
       "      <th></th>\n",
       "      <th></th>\n",
       "      <th></th>\n",
       "      <th></th>\n",
       "    </tr>\n",
       "  </thead>\n",
       "  <tbody>\n",
       "    <tr>\n",
       "      <th>3</th>\n",
       "      <td>MS Dhoni</td>\n",
       "      <td>CSK</td>\n",
       "      <td>450</td>\n",
       "      <td>12</td>\n",
       "      <td>MS Dhoni</td>\n",
       "      <td>CSK</td>\n",
       "      <td>5</td>\n",
       "      <td>12</td>\n",
       "    </tr>\n",
       "    <tr>\n",
       "      <th>4</th>\n",
       "      <td>KL Rahul</td>\n",
       "      <td>LSG</td>\n",
       "      <td>600</td>\n",
       "      <td>13</td>\n",
       "      <td>KL Rahul</td>\n",
       "      <td>LSG</td>\n",
       "      <td>0</td>\n",
       "      <td>13</td>\n",
       "    </tr>\n",
       "  </tbody>\n",
       "</table>\n",
       "</div>"
      ],
      "text/plain": [
       "          Player_Name_df1 Team_df1  Runs  Matches_df1 Player_Name_df2  \\\n",
       "Player_ID                                                               \n",
       "3                MS Dhoni      CSK   450           12        MS Dhoni   \n",
       "4                KL Rahul      LSG   600           13        KL Rahul   \n",
       "\n",
       "          Team_df2  Wickets  Matches_df2  \n",
       "Player_ID                                 \n",
       "3              CSK        5           12  \n",
       "4              LSG        0           13  "
      ]
     },
     "execution_count": 64,
     "metadata": {},
     "output_type": "execute_result"
    }
   ],
   "source": [
    "# Join DataFrames on index (Player_ID)\n",
    "joined_df = df1.join(df2, lsuffix='_df1', rsuffix='_df2', how='inner')\n",
    "joined_df"
   ]
  },
  {
   "cell_type": "markdown",
   "id": "d1452a30-fd4a-4cd0-b846-3fa4150094b8",
   "metadata": {},
   "source": [
    "#### Concatenating dataframes"
   ]
  },
  {
   "cell_type": "code",
   "execution_count": 65,
   "id": "408044ba-7965-44f8-afef-3ba0c46c32e1",
   "metadata": {},
   "outputs": [],
   "source": [
    "# Resetting index to original for concatenation\n",
    "df1.reset_index(inplace=True)\n",
    "df2.reset_index(inplace=True)"
   ]
  },
  {
   "cell_type": "code",
   "execution_count": 68,
   "id": "c5b7fd14-45df-4994-a148-71e6717e6981",
   "metadata": {},
   "outputs": [
    {
     "data": {
      "text/html": [
       "<div>\n",
       "<style scoped>\n",
       "    .dataframe tbody tr th:only-of-type {\n",
       "        vertical-align: middle;\n",
       "    }\n",
       "\n",
       "    .dataframe tbody tr th {\n",
       "        vertical-align: top;\n",
       "    }\n",
       "\n",
       "    .dataframe thead th {\n",
       "        text-align: right;\n",
       "    }\n",
       "</style>\n",
       "<table border=\"1\" class=\"dataframe\">\n",
       "  <thead>\n",
       "    <tr style=\"text-align: right;\">\n",
       "      <th></th>\n",
       "      <th>Player_ID</th>\n",
       "      <th>Player_Name</th>\n",
       "      <th>Team</th>\n",
       "      <th>Runs</th>\n",
       "      <th>Matches</th>\n",
       "      <th>Wickets</th>\n",
       "    </tr>\n",
       "  </thead>\n",
       "  <tbody>\n",
       "    <tr>\n",
       "      <th>0</th>\n",
       "      <td>1</td>\n",
       "      <td>Virat Kohli</td>\n",
       "      <td>RCB</td>\n",
       "      <td>670.0</td>\n",
       "      <td>14</td>\n",
       "      <td>NaN</td>\n",
       "    </tr>\n",
       "    <tr>\n",
       "      <th>1</th>\n",
       "      <td>2</td>\n",
       "      <td>Rohit Sharma</td>\n",
       "      <td>MI</td>\n",
       "      <td>540.0</td>\n",
       "      <td>14</td>\n",
       "      <td>NaN</td>\n",
       "    </tr>\n",
       "    <tr>\n",
       "      <th>2</th>\n",
       "      <td>3</td>\n",
       "      <td>MS Dhoni</td>\n",
       "      <td>CSK</td>\n",
       "      <td>450.0</td>\n",
       "      <td>12</td>\n",
       "      <td>NaN</td>\n",
       "    </tr>\n",
       "    <tr>\n",
       "      <th>3</th>\n",
       "      <td>4</td>\n",
       "      <td>KL Rahul</td>\n",
       "      <td>LSG</td>\n",
       "      <td>600.0</td>\n",
       "      <td>13</td>\n",
       "      <td>NaN</td>\n",
       "    </tr>\n",
       "    <tr>\n",
       "      <th>0</th>\n",
       "      <td>3</td>\n",
       "      <td>MS Dhoni</td>\n",
       "      <td>CSK</td>\n",
       "      <td>NaN</td>\n",
       "      <td>12</td>\n",
       "      <td>5.0</td>\n",
       "    </tr>\n",
       "    <tr>\n",
       "      <th>1</th>\n",
       "      <td>4</td>\n",
       "      <td>KL Rahul</td>\n",
       "      <td>LSG</td>\n",
       "      <td>NaN</td>\n",
       "      <td>13</td>\n",
       "      <td>0.0</td>\n",
       "    </tr>\n",
       "    <tr>\n",
       "      <th>2</th>\n",
       "      <td>5</td>\n",
       "      <td>David Warner</td>\n",
       "      <td>SRH</td>\n",
       "      <td>NaN</td>\n",
       "      <td>14</td>\n",
       "      <td>3.0</td>\n",
       "    </tr>\n",
       "    <tr>\n",
       "      <th>3</th>\n",
       "      <td>6</td>\n",
       "      <td>AB de Villiers</td>\n",
       "      <td>RCB</td>\n",
       "      <td>NaN</td>\n",
       "      <td>11</td>\n",
       "      <td>2.0</td>\n",
       "    </tr>\n",
       "  </tbody>\n",
       "</table>\n",
       "</div>"
      ],
      "text/plain": [
       "   Player_ID     Player_Name Team   Runs  Matches  Wickets\n",
       "0          1     Virat Kohli  RCB  670.0       14      NaN\n",
       "1          2    Rohit Sharma   MI  540.0       14      NaN\n",
       "2          3        MS Dhoni  CSK  450.0       12      NaN\n",
       "3          4        KL Rahul  LSG  600.0       13      NaN\n",
       "0          3        MS Dhoni  CSK    NaN       12      5.0\n",
       "1          4        KL Rahul  LSG    NaN       13      0.0\n",
       "2          5    David Warner  SRH    NaN       14      3.0\n",
       "3          6  AB de Villiers  RCB    NaN       11      2.0"
      ]
     },
     "execution_count": 68,
     "metadata": {},
     "output_type": "execute_result"
    }
   ],
   "source": [
    "# Concatenate DataFrames vertically\n",
    "pd.concat([df1, df2], axis=0)"
   ]
  },
  {
   "cell_type": "code",
   "execution_count": 67,
   "id": "72120677-42e0-4d46-8c54-7ed291717235",
   "metadata": {},
   "outputs": [
    {
     "data": {
      "text/html": [
       "<div>\n",
       "<style scoped>\n",
       "    .dataframe tbody tr th:only-of-type {\n",
       "        vertical-align: middle;\n",
       "    }\n",
       "\n",
       "    .dataframe tbody tr th {\n",
       "        vertical-align: top;\n",
       "    }\n",
       "\n",
       "    .dataframe thead th {\n",
       "        text-align: right;\n",
       "    }\n",
       "</style>\n",
       "<table border=\"1\" class=\"dataframe\">\n",
       "  <thead>\n",
       "    <tr style=\"text-align: right;\">\n",
       "      <th></th>\n",
       "      <th>Player_ID</th>\n",
       "      <th>Player_Name</th>\n",
       "      <th>Team</th>\n",
       "      <th>Runs</th>\n",
       "      <th>Matches</th>\n",
       "      <th>Player_ID</th>\n",
       "      <th>Player_Name</th>\n",
       "      <th>Team</th>\n",
       "      <th>Wickets</th>\n",
       "      <th>Matches</th>\n",
       "    </tr>\n",
       "  </thead>\n",
       "  <tbody>\n",
       "    <tr>\n",
       "      <th>0</th>\n",
       "      <td>1</td>\n",
       "      <td>Virat Kohli</td>\n",
       "      <td>RCB</td>\n",
       "      <td>670</td>\n",
       "      <td>14</td>\n",
       "      <td>3</td>\n",
       "      <td>MS Dhoni</td>\n",
       "      <td>CSK</td>\n",
       "      <td>5</td>\n",
       "      <td>12</td>\n",
       "    </tr>\n",
       "    <tr>\n",
       "      <th>1</th>\n",
       "      <td>2</td>\n",
       "      <td>Rohit Sharma</td>\n",
       "      <td>MI</td>\n",
       "      <td>540</td>\n",
       "      <td>14</td>\n",
       "      <td>4</td>\n",
       "      <td>KL Rahul</td>\n",
       "      <td>LSG</td>\n",
       "      <td>0</td>\n",
       "      <td>13</td>\n",
       "    </tr>\n",
       "    <tr>\n",
       "      <th>2</th>\n",
       "      <td>3</td>\n",
       "      <td>MS Dhoni</td>\n",
       "      <td>CSK</td>\n",
       "      <td>450</td>\n",
       "      <td>12</td>\n",
       "      <td>5</td>\n",
       "      <td>David Warner</td>\n",
       "      <td>SRH</td>\n",
       "      <td>3</td>\n",
       "      <td>14</td>\n",
       "    </tr>\n",
       "    <tr>\n",
       "      <th>3</th>\n",
       "      <td>4</td>\n",
       "      <td>KL Rahul</td>\n",
       "      <td>LSG</td>\n",
       "      <td>600</td>\n",
       "      <td>13</td>\n",
       "      <td>6</td>\n",
       "      <td>AB de Villiers</td>\n",
       "      <td>RCB</td>\n",
       "      <td>2</td>\n",
       "      <td>11</td>\n",
       "    </tr>\n",
       "  </tbody>\n",
       "</table>\n",
       "</div>"
      ],
      "text/plain": [
       "   Player_ID   Player_Name Team  Runs  Matches  Player_ID     Player_Name  \\\n",
       "0          1   Virat Kohli  RCB   670       14          3        MS Dhoni   \n",
       "1          2  Rohit Sharma   MI   540       14          4        KL Rahul   \n",
       "2          3      MS Dhoni  CSK   450       12          5    David Warner   \n",
       "3          4      KL Rahul  LSG   600       13          6  AB de Villiers   \n",
       "\n",
       "  Team  Wickets  Matches  \n",
       "0  CSK        5       12  \n",
       "1  LSG        0       13  \n",
       "2  SRH        3       14  \n",
       "3  RCB        2       11  "
      ]
     },
     "execution_count": 67,
     "metadata": {},
     "output_type": "execute_result"
    }
   ],
   "source": [
    "# Concatenate DataFrames horizontally\n",
    "pd.concat([df1, df2], axis=1)"
   ]
  },
  {
   "cell_type": "markdown",
   "id": "dcfd156d-2b59-45b1-ac14-4f138a9007c1",
   "metadata": {},
   "source": [
    "### Conclusion"
   ]
  },
  {
   "cell_type": "markdown",
   "id": "8e7c49ec-ac6d-4cc9-90ca-28cb7b33e173",
   "metadata": {},
   "source": [
    "The use of Pandas in the program demonstrates the powerful capabilities this library offers for data handling and analysis, making it an indispensable tool for data science professionals. Pandas excels in several key areas compared to traditional Python data structures such as lists, dictionaries, and arrays."
   ]
  },
  {
   "cell_type": "markdown",
   "id": "4ff54217-246a-46db-993d-d07f9f662b93",
   "metadata": {},
   "source": [
    "## Advantages of Using Pandas Over Traditional Python Data Structures"
   ]
  },
  {
   "cell_type": "markdown",
   "id": "b67e66ca-77d2-4a2b-990c-a7fae80d2248",
   "metadata": {},
   "source": [
    "**Efficient Data Handling**:\n",
    "- **DataFrames and Series**: Pandas offers intuitive and flexible data structures that simplify the management and analysis of tabular data, akin to database tables or Excel sheets.\n",
    "- **Column and Row Operations**: Pandas makes it easy to perform operations on entire columns or rows, simplifying data transformation and aggregation.\n",
    "\n",
    "**Data Analysis and Aggregation**:\n",
    "- **Built-in Functions**: Pandas provides a wide range of functions for generating summary statistics, grouping data, and applying aggregate functions with minimal code.\n",
    "- **Groupby and Aggregation**: Grouping data and performing aggregations is seamless, making it easier to summarize data and extract insights.\n",
    "\n",
    "**Advanced Data Manipulation**:\n",
    "- **Merging, Joining, and Concatenating**: Pandas offers powerful tools for combining datasets, enabling data scientists to integrate and analyze data from multiple sources.\n",
    "- **Data Cleaning and Preprocessing**: Pandas simplifies tasks such as handling missing data, removing duplicates, and converting data types, preparing datasets for analysis.\n",
    "\n",
    "**Performance and Scalability**:\n",
    "- **Optimized for Performance**: Built on NumPy, Pandas is highly efficient and handles large datasets better than traditional Python data structures.\n",
    "- **Scalability**: Pandas continues to perform well as data sizes grow, thanks to its optimized underlying implementations.\n",
    "\n",
    "**Ease of Use and Readability**:\n",
    "- **Intuitive Syntax**: Pandas is user-friendly, improving productivity and reducing errors.\n",
    "- **Integration with Other Libraries**: Pandas seamlessly integrates with libraries like Matplotlib and Scikit-learn, making it a versatile tool for data science tasks."
   ]
  },
  {
   "cell_type": "markdown",
   "id": "8a984c2c-d07d-416d-8a47-1239b09e8bfc",
   "metadata": {},
   "source": [
    "## How Pandas Benefits Data Science Professionals"
   ]
  },
  {
   "cell_type": "markdown",
   "id": "1dab7039-be2d-4b44-ba1d-02d3e36d95a0",
   "metadata": {},
   "source": [
    "For data science professionals, Pandas is a game-changer. It allows them to quickly and efficiently perform a wide range of data operations, from loading and cleaning data to complex analyses and transformations. By leveraging Pandas, data scientists can focus more on deriving insights and building models rather than getting bogged down in manual data manipulation."
   ]
  },
  {
   "cell_type": "markdown",
   "id": "f1c8419a-c0a0-4f34-987f-b1b93fa85016",
   "metadata": {},
   "source": [
    "### Real-World Examples Where Pandas is Essential\r\n",
    "\r\n",
    "1. **Data Cleaning in Financial Analysis**:\r\n",
    "   - **Example**: A financial analyst working with stock market data often deals with missing or inconsistent data. Pandas is essential for cleaning this data by filling missing values, removing duplicates, and ensuring that all data points are in a consistent format.\r\n",
    "   - **Use Case**: A company might use Pandas to clean daily stock prices from multiple sources, ensuring that the data is accurate and ready for further analysis, such as calculating moving averages or identifying trends.\r\n",
    "\r\n",
    "2. **Exploratory Data Analysis (EDA) in Healthcare**:\r\n",
    "   - **Example**: In healthcare, analysts often explore patient data to identify patterns or correlations between different variables (e.g., age, blood pressure, cholesterol levels). Pandas allows for quick and efficient EDA by summarizing data, generating statistics, and visualizing distributions.\r\n",
    "   - **Use Case**: A data scientist might use Pandas to explore a dataset containing patient health records, identifying key factors that correlate with the likelihood of developing heart disease, which can then be used to inform preventive care strategies.\r\n",
    "\r\n",
    "3. **Data Integration and Transformation in Marketing**:\r\n",
    "   - **Example**: Marketers often need to combine data from various sources, such as customer databases, website analytics, and social media platforms. Pandas is crucial for merging, joining, and transforming these datasets into a unified format for analysis.\r\n",
    "   - **Use Case**: A marketing team could use Pandas to merge customer demographic data with purchase history and website activity, enabling them to perform segmentation analysis and tailor marketing campaigns to specific customer groups.\r\n",
    "\r\n",
    "4. **Time Series Analysis in Environmental Science**:\r\n",
    "   - **Example**: Environmental scientists often work with time series data, such as temperature records or air quality measurements over time. Pandas excels in handling time series data, allowing for easy resampling, rolling statistics, and trend analysis.\r\n",
    "   - **Use Case**: A researcher might use Pandas to analyze a dataset of daily temperature readings over several decades, identifying long-term trends and seasonal patterns that could indicate climate change.\r\n",
    "\r\n",
    "5. **Data Preparation for Machine Learning in Retail**:\r\n",
    "   - **Example**: In retail, machine learning models are used for predicting customer behavior, such as forecasting sales or recommending products. Pandas is essential for preparing the data, including feature engineering, normalization, and splitting data into training and testing sets.\r\n",
    "   - **Use Case**: A data scientist could use Pandas to preprocess a retail dataset containing customer purchase history, transforming categorical data into numerical features and normalizing the data before feeding it into a machine learning model for predictig future\n",
    "yry data analysis and beyond."
   ]
  },
  {
   "cell_type": "markdown",
   "id": "b1fb3db3-010b-4751-b2be-406aa9e4da88",
   "metadata": {},
   "source": [
    "## Summary"
   ]
  },
  {
   "cell_type": "markdown",
   "id": "0038f090-132d-4967-b331-3443564e4459",
   "metadata": {},
   "source": [
    "Pandas greatly benefits data science professionals by providing powerful, intuitive data structures like DataFrames and Series that simplify the handling and analysis of complex, large datasets. It streamlines essential tasks such as data cleaning, transformation, and aggregation, enabling quick identification and resolution of issues like missing data or inconsistencies. Pandas also integrates seamlessly with other data science tools, making it easier to perform exploratory data analysis, prepare data for machine learning, and generate insights with minimal code. This efficiency and flexibility make Pandas an indispensable tool for data science workflows, enhancing productivity and accuracy."
   ]
  },
  {
   "cell_type": "code",
   "execution_count": null,
   "id": "07428b19-9b72-425d-a1bf-c33a3f4e9528",
   "metadata": {},
   "outputs": [],
   "source": []
  }
 ],
 "metadata": {
  "kernelspec": {
   "display_name": "Python 3 (ipykernel)",
   "language": "python",
   "name": "python3"
  },
  "language_info": {
   "codemirror_mode": {
    "name": "ipython",
    "version": 3
   },
   "file_extension": ".py",
   "mimetype": "text/x-python",
   "name": "python",
   "nbconvert_exporter": "python",
   "pygments_lexer": "ipython3",
   "version": "3.12.0"
  }
 },
 "nbformat": 4,
 "nbformat_minor": 5
}
