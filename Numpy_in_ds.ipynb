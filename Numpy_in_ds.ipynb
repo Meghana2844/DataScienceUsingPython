{
 "cells": [
  {
   "cell_type": "markdown",
   "id": "93722988-4e06-4e61-8385-398b81db98b2",
   "metadata": {},
   "source": [
    "# NUMPY"
   ]
  },
  {
   "cell_type": "markdown",
   "id": "a2e8cf7d-0906-4292-ac82-ec427d54560a",
   "metadata": {},
   "source": [
    "NumPy, short for Numerical Python, is one of the most important pack\n",
    "ages for numerical computing in PythonNumPy is widely used in data science, machine learning, and scientific computing because of its powerful capabilities for performing mathematical operations on large datasets with minimal code.."
   ]
  },
  {
   "cell_type": "markdown",
   "id": "469200da-84c3-415a-9825-10d372b77661",
   "metadata": {},
   "source": [
    "## 1.Getting familier with numpy"
   ]
  },
  {
   "cell_type": "markdown",
   "id": "54db8c94-b08e-4dbb-877f-d126211acac4",
   "metadata": {},
   "source": [
    "Numpy stores homogenous data type objects in array"
   ]
  },
  {
   "cell_type": "code",
   "execution_count": 2,
   "id": "1fb1a1f4-994a-4fd3-bcd3-e4e4fa072e46",
   "metadata": {},
   "outputs": [],
   "source": [
    "#importing numpy package\n",
    "import numpy as np"
   ]
  },
  {
   "cell_type": "markdown",
   "id": "7b4ae2c5-e5a5-4c05-9280-298113fd6c83",
   "metadata": {},
   "source": [
    "#### Creating a 1D array"
   ]
  },
  {
   "cell_type": "code",
   "execution_count": 5,
   "id": "e0ff4bf9-51fd-4081-b6c2-6fef63084f1a",
   "metadata": {},
   "outputs": [
    {
     "data": {
      "text/plain": [
       "array([-0.61627244,  0.38502815,  1.15091878,  1.34538903, -2.42347869,\n",
       "        1.82648333])"
      ]
     },
     "execution_count": 5,
     "metadata": {},
     "output_type": "execute_result"
    }
   ],
   "source": [
    "#by generating some random data \n",
    "data=np.random.randn(6)\n",
    "data"
   ]
  },
  {
   "cell_type": "code",
   "execution_count": 6,
   "id": "e82c60b2-b425-401f-930a-ac29dbfcb4fc",
   "metadata": {},
   "outputs": [
    {
     "data": {
      "text/plain": [
       "array([10, 20, 30, 40, 50])"
      ]
     },
     "execution_count": 6,
     "metadata": {},
     "output_type": "execute_result"
    }
   ],
   "source": [
    "#using array function\n",
    "arr1=np.array([10,20,30,40,50])\n",
    "arr1"
   ]
  },
  {
   "cell_type": "markdown",
   "id": "0c085068-17f2-4435-bc8d-5551cfb87db9",
   "metadata": {},
   "source": [
    "#### Creating a ND array"
   ]
  },
  {
   "cell_type": "code",
   "execution_count": 7,
   "id": "99021cfe-3def-43e1-9a9f-5f38c7f06802",
   "metadata": {},
   "outputs": [],
   "source": [
    "data2=np.random.randn(2,3)"
   ]
  },
  {
   "cell_type": "code",
   "execution_count": 9,
   "id": "34079e6d-9773-42ea-9cfb-ee62faf2fdf7",
   "metadata": {},
   "outputs": [
    {
     "data": {
      "text/plain": [
       "array([[-0.53750081, -0.6129405 , -0.58236439],\n",
       "       [-0.14249193, -1.31749485,  0.65954959]])"
      ]
     },
     "execution_count": 9,
     "metadata": {},
     "output_type": "execute_result"
    }
   ],
   "source": [
    "#(2,3)is the shape of the array\n",
    "data2"
   ]
  },
  {
   "cell_type": "markdown",
   "id": "ea62c938-62f8-4767-ae0f-000c232a1398",
   "metadata": {},
   "source": [
    "#### Other functions to create arrays"
   ]
  },
  {
   "cell_type": "code",
   "execution_count": 17,
   "id": "7dd29107-4d38-493c-bcf5-d9196c7bc738",
   "metadata": {},
   "outputs": [
    {
     "data": {
      "text/plain": [
       "array([[0., 0., 0.],\n",
       "       [0., 0., 0.]])"
      ]
     },
     "execution_count": 17,
     "metadata": {},
     "output_type": "execute_result"
    }
   ],
   "source": [
    "#to create a array of zeroes\n",
    "zero_arr=np.zeros((2,3))\n",
    "zero_arr"
   ]
  },
  {
   "cell_type": "code",
   "execution_count": 18,
   "id": "2dcd2eca-5265-4774-ae1c-70924157c1b9",
   "metadata": {},
   "outputs": [
    {
     "data": {
      "text/plain": [
       "array([[1., 1., 1.],\n",
       "       [1., 1., 1.]])"
      ]
     },
     "execution_count": 18,
     "metadata": {},
     "output_type": "execute_result"
    }
   ],
   "source": [
    "#to create a array of ones\n",
    "ones_arr=np.ones((2,3))\n",
    "ones_arr"
   ]
  },
  {
   "cell_type": "code",
   "execution_count": 19,
   "id": "f3c29602-4e93-463c-9144-eef8665ad861",
   "metadata": {},
   "outputs": [
    {
     "data": {
      "text/plain": [
       "array([[1., 1., 1.],\n",
       "       [1., 1., 1.]])"
      ]
     },
     "execution_count": 19,
     "metadata": {},
     "output_type": "execute_result"
    }
   ],
   "source": [
    "#empty array\n",
    "empty_arr=np.empty((2,3))\n",
    "empty_arr"
   ]
  },
  {
   "cell_type": "markdown",
   "id": "97f84e63-dfd3-4e45-b0ad-24ddcb259f0d",
   "metadata": {},
   "source": [
    "#### Array properties"
   ]
  },
  {
   "cell_type": "code",
   "execution_count": 12,
   "id": "86aa7c7b-800d-44b1-8ad3-30a1dcec47ac",
   "metadata": {},
   "outputs": [
    {
     "data": {
      "text/plain": [
       "dtype('float64')"
      ]
     },
     "execution_count": 12,
     "metadata": {},
     "output_type": "execute_result"
    }
   ],
   "source": [
    "#we can confirm dtype and shape by dtype and shape attributes\n",
    "data2.dtype"
   ]
  },
  {
   "cell_type": "code",
   "execution_count": 13,
   "id": "6314548a-a688-464d-994f-7deb25907360",
   "metadata": {},
   "outputs": [
    {
     "data": {
      "text/plain": [
       "(2, 3)"
      ]
     },
     "execution_count": 13,
     "metadata": {},
     "output_type": "execute_result"
    }
   ],
   "source": [
    "data2.shape"
   ]
  },
  {
   "cell_type": "code",
   "execution_count": 14,
   "id": "7094f335-727e-46ec-9eb3-f2311a37f2a8",
   "metadata": {},
   "outputs": [
    {
     "data": {
      "text/plain": [
       "2"
      ]
     },
     "execution_count": 14,
     "metadata": {},
     "output_type": "execute_result"
    }
   ],
   "source": [
    "#we can know the dimensions of array by ndim\n",
    "data2.ndim"
   ]
  },
  {
   "cell_type": "markdown",
   "id": "7ebbd91c-da9b-4ead-ab26-b583df43c93c",
   "metadata": {},
   "source": [
    "## Data Manipulation"
   ]
  },
  {
   "cell_type": "markdown",
   "id": "fb7d36b7-ac9c-4a1d-9098-4030b1309706",
   "metadata": {},
   "source": [
    "#### Slicing "
   ]
  },
  {
   "cell_type": "markdown",
   "id": "698dd1ad-894f-454c-ae73-8ae09fd613c2",
   "metadata": {},
   "source": [
    "##### 1d array"
   ]
  },
  {
   "cell_type": "code",
   "execution_count": 34,
   "id": "18dd835f-14bc-479f-bd41-4d58486f63a7",
   "metadata": {},
   "outputs": [
    {
     "data": {
      "text/plain": [
       "array([0, 1, 2, 3, 4, 5, 6, 7, 8, 9])"
      ]
     },
     "execution_count": 34,
     "metadata": {},
     "output_type": "execute_result"
    }
   ],
   "source": [
    "#create an array\n",
    "arr=np.arange(10)\n",
    "arr"
   ]
  },
  {
   "cell_type": "code",
   "execution_count": 35,
   "id": "3db569dc-0052-4f5a-a919-5a402da89761",
   "metadata": {},
   "outputs": [
    {
     "data": {
      "text/plain": [
       "5"
      ]
     },
     "execution_count": 35,
     "metadata": {},
     "output_type": "execute_result"
    }
   ],
   "source": [
    "arr[5]"
   ]
  },
  {
   "cell_type": "code",
   "execution_count": 37,
   "id": "0a98dc9a-5e31-42f3-9941-9452455ef292",
   "metadata": {},
   "outputs": [
    {
     "data": {
      "text/plain": [
       "array([5, 6, 7])"
      ]
     },
     "execution_count": 37,
     "metadata": {},
     "output_type": "execute_result"
    }
   ],
   "source": [
    "#extracting a part of array\n",
    "arr[5:8]"
   ]
  },
  {
   "cell_type": "code",
   "execution_count": 38,
   "id": "b1987627-d134-47bd-a572-551015b4e4a0",
   "metadata": {},
   "outputs": [],
   "source": [
    "#manipulating data using slicing\n",
    "arr[5:8]=12"
   ]
  },
  {
   "cell_type": "code",
   "execution_count": 39,
   "id": "20b50bfd-b0fe-47bd-81a8-92fc1bd461b6",
   "metadata": {},
   "outputs": [
    {
     "data": {
      "text/plain": [
       "array([ 0,  1,  2,  3,  4, 12, 12, 12,  8,  9])"
      ]
     },
     "execution_count": 39,
     "metadata": {},
     "output_type": "execute_result"
    }
   ],
   "source": [
    "arr"
   ]
  },
  {
   "cell_type": "markdown",
   "id": "792252d2-e828-4cda-aee9-160c9d14cf41",
   "metadata": {},
   "source": [
    "Manipulating data to the entire slice is called broadcasting and we can observe that broadcasting is possible in numpy"
   ]
  },
  {
   "cell_type": "code",
   "execution_count": 40,
   "id": "46b59abc-7b8b-47d8-872e-2b893b5e5eab",
   "metadata": {},
   "outputs": [
    {
     "data": {
      "text/plain": [
       "array([12, 12, 12])"
      ]
     },
     "execution_count": 40,
     "metadata": {},
     "output_type": "execute_result"
    }
   ],
   "source": [
    "slice=arr[5:8]\n",
    "slice"
   ]
  },
  {
   "cell_type": "code",
   "execution_count": 43,
   "id": "7e2f7ebe-8068-4bf6-a56d-001f87b57c5a",
   "metadata": {},
   "outputs": [],
   "source": [
    "#if i change values in this slice the changes are reflected in original array\n",
    "slice[1]=456"
   ]
  },
  {
   "cell_type": "code",
   "execution_count": 44,
   "id": "19b20299-c2a2-4a65-8ee7-0e3945a19a7e",
   "metadata": {},
   "outputs": [
    {
     "data": {
      "text/plain": [
       "array([  0,   1,   2,   3,   4,  12, 456,  12,   8,   9])"
      ]
     },
     "execution_count": 44,
     "metadata": {},
     "output_type": "execute_result"
    }
   ],
   "source": [
    "arr"
   ]
  },
  {
   "cell_type": "markdown",
   "id": "255a2896-adca-4e98-b8e9-5f5da1d52933",
   "metadata": {},
   "source": [
    "##### 2d array"
   ]
  },
  {
   "cell_type": "code",
   "execution_count": 47,
   "id": "8e83c789-c2a8-4948-a70c-a2ea29fb731e",
   "metadata": {},
   "outputs": [
    {
     "data": {
      "text/plain": [
       "array([[  0,   1],\n",
       "       [  2,   3],\n",
       "       [  4,  12],\n",
       "       [456,  12],\n",
       "       [  8,   9]])"
      ]
     },
     "execution_count": 47,
     "metadata": {},
     "output_type": "execute_result"
    }
   ],
   "source": [
    "#reshape the array using reshape method\n",
    "arr2=arr.reshape((5,2))\n",
    "arr2"
   ]
  },
  {
   "cell_type": "code",
   "execution_count": 48,
   "id": "c5c332e7-f346-434e-bcd1-605641b350a9",
   "metadata": {},
   "outputs": [
    {
     "data": {
      "text/plain": [
       "array([[0, 1],\n",
       "       [2, 3]])"
      ]
     },
     "execution_count": 48,
     "metadata": {},
     "output_type": "execute_result"
    }
   ],
   "source": [
    "#to get the fisrt 2 rows of array\n",
    "arr2[:2,:]"
   ]
  },
  {
   "cell_type": "code",
   "execution_count": 52,
   "id": "e657b408-c336-4fc9-beb7-b2817bc96a1b",
   "metadata": {},
   "outputs": [
    {
     "data": {
      "text/plain": [
       "array([[ 1],\n",
       "       [ 3],\n",
       "       [12],\n",
       "       [12]])"
      ]
     },
     "execution_count": 52,
     "metadata": {},
     "output_type": "execute_result"
    }
   ],
   "source": [
    "#to get the fisrt column of first 4rows\n",
    "arr2[:4,1:]"
   ]
  },
  {
   "cell_type": "markdown",
   "id": "79348f33-d5e9-487e-9595-cb2388768c99",
   "metadata": {},
   "source": [
    "#### Reshaping"
   ]
  },
  {
   "cell_type": "code",
   "execution_count": 53,
   "id": "619db5ed-364a-4e92-92dc-96d91e1f653e",
   "metadata": {},
   "outputs": [],
   "source": [
    "arr3=arr2.reshape((2,5))"
   ]
  },
  {
   "cell_type": "code",
   "execution_count": 54,
   "id": "2c5e1c83-cd85-4b6a-8f8b-423684b3c37d",
   "metadata": {},
   "outputs": [
    {
     "data": {
      "text/plain": [
       "array([[  0,   1,   2,   3,   4],\n",
       "       [ 12, 456,  12,   8,   9]])"
      ]
     },
     "execution_count": 54,
     "metadata": {},
     "output_type": "execute_result"
    }
   ],
   "source": [
    "arr3"
   ]
  },
  {
   "cell_type": "code",
   "execution_count": 55,
   "id": "e223817c-8d5d-4cc8-b4f9-3d7d8811889c",
   "metadata": {},
   "outputs": [
    {
     "data": {
      "text/plain": [
       "array([ 0,  1,  2,  3,  4,  5,  6,  7,  8,  9, 10, 11, 12, 13, 14, 15, 16,\n",
       "       17, 18, 19, 20, 21, 22, 23])"
      ]
     },
     "execution_count": 55,
     "metadata": {},
     "output_type": "execute_result"
    }
   ],
   "source": [
    "data=np.arange(24)\n",
    "data"
   ]
  },
  {
   "cell_type": "code",
   "execution_count": 56,
   "id": "91f7011e-a28a-4667-a3e8-eb3b8521962b",
   "metadata": {},
   "outputs": [
    {
     "data": {
      "text/plain": [
       "array([[ 0,  1,  2,  3],\n",
       "       [ 4,  5,  6,  7],\n",
       "       [ 8,  9, 10, 11],\n",
       "       [12, 13, 14, 15],\n",
       "       [16, 17, 18, 19],\n",
       "       [20, 21, 22, 23]])"
      ]
     },
     "execution_count": 56,
     "metadata": {},
     "output_type": "execute_result"
    }
   ],
   "source": [
    "data2=data.reshape((6,4))\n",
    "data2"
   ]
  },
  {
   "cell_type": "markdown",
   "id": "69fd1e58-7ba1-40ef-9d29-86b48d4ac858",
   "metadata": {},
   "source": [
    "#### Mathematical Operations"
   ]
  },
  {
   "cell_type": "code",
   "execution_count": 57,
   "id": "b67e0c80-859e-4478-9c08-253e05ecac5e",
   "metadata": {},
   "outputs": [
    {
     "data": {
      "text/plain": [
       "array([[ 0,  2,  4,  6],\n",
       "       [ 8, 10, 12, 14],\n",
       "       [16, 18, 20, 22],\n",
       "       [24, 26, 28, 30],\n",
       "       [32, 34, 36, 38],\n",
       "       [40, 42, 44, 46]])"
      ]
     },
     "execution_count": 57,
     "metadata": {},
     "output_type": "execute_result"
    }
   ],
   "source": [
    "#ADDITION OF 2 ARRAYS\n",
    "data3=data2+data2\n",
    "data3"
   ]
  },
  {
   "cell_type": "code",
   "execution_count": 58,
   "id": "f65a4f42-b1fd-4797-b9a9-a8782027101b",
   "metadata": {},
   "outputs": [
    {
     "data": {
      "text/plain": [
       "array([[  0,   1,   4,   9],\n",
       "       [ 16,  25,  36,  49],\n",
       "       [ 64,  81, 100, 121],\n",
       "       [144, 169, 196, 225],\n",
       "       [256, 289, 324, 361],\n",
       "       [400, 441, 484, 529]])"
      ]
     },
     "execution_count": 58,
     "metadata": {},
     "output_type": "execute_result"
    }
   ],
   "source": [
    "#MULTLIPLICATION\n",
    "data3=data2*data2\n",
    "data3"
   ]
  },
  {
   "cell_type": "code",
   "execution_count": 59,
   "id": "e3ee835b-30cc-4386-8643-112b1612a47f",
   "metadata": {},
   "outputs": [
    {
     "data": {
      "text/plain": [
       "array([[0, 0, 0, 0],\n",
       "       [0, 0, 0, 0],\n",
       "       [0, 0, 0, 0],\n",
       "       [0, 0, 0, 0],\n",
       "       [0, 0, 0, 0],\n",
       "       [0, 0, 0, 0]])"
      ]
     },
     "execution_count": 59,
     "metadata": {},
     "output_type": "execute_result"
    }
   ],
   "source": [
    "#SUBTRACTION\n",
    "data2-data2"
   ]
  },
  {
   "cell_type": "code",
   "execution_count": 60,
   "id": "b06f7d20-643b-429e-88de-3b72027efd04",
   "metadata": {},
   "outputs": [
    {
     "name": "stderr",
     "output_type": "stream",
     "text": [
      "C:\\Users\\MEGHANA\\AppData\\Local\\Temp\\ipykernel_32204\\2529864702.py:2: RuntimeWarning: divide by zero encountered in divide\n",
      "  1/data2\n"
     ]
    },
    {
     "data": {
      "text/plain": [
       "array([[       inf, 1.        , 0.5       , 0.33333333],\n",
       "       [0.25      , 0.2       , 0.16666667, 0.14285714],\n",
       "       [0.125     , 0.11111111, 0.1       , 0.09090909],\n",
       "       [0.08333333, 0.07692308, 0.07142857, 0.06666667],\n",
       "       [0.0625    , 0.05882353, 0.05555556, 0.05263158],\n",
       "       [0.05      , 0.04761905, 0.04545455, 0.04347826]])"
      ]
     },
     "execution_count": 60,
     "metadata": {},
     "output_type": "execute_result"
    }
   ],
   "source": [
    "#DIVISON\n",
    "1/data2"
   ]
  },
  {
   "cell_type": "code",
   "execution_count": 63,
   "id": "9f64b019-f1b9-4d5b-8621-18d094573297",
   "metadata": {},
   "outputs": [],
   "source": [
    "#warning is due to first element is 0,lets change using slicing\n",
    "data2[0][0]=1"
   ]
  },
  {
   "cell_type": "code",
   "execution_count": 64,
   "id": "11d0b79b-25fd-4660-914f-2b7b3ccc0fac",
   "metadata": {},
   "outputs": [
    {
     "data": {
      "text/plain": [
       "array([[1.        , 1.        , 0.5       , 0.33333333],\n",
       "       [0.25      , 0.2       , 0.16666667, 0.14285714],\n",
       "       [0.125     , 0.11111111, 0.1       , 0.09090909],\n",
       "       [0.08333333, 0.07692308, 0.07142857, 0.06666667],\n",
       "       [0.0625    , 0.05882353, 0.05555556, 0.05263158],\n",
       "       [0.05      , 0.04761905, 0.04545455, 0.04347826]])"
      ]
     },
     "execution_count": 64,
     "metadata": {},
     "output_type": "execute_result"
    }
   ],
   "source": [
    "1/data2"
   ]
  },
  {
   "cell_type": "code",
   "execution_count": 66,
   "id": "5604965d-ad4b-4216-baf2-d7f288c0d238",
   "metadata": {},
   "outputs": [
    {
     "data": {
      "text/plain": [
       "array([[1.        , 1.        , 1.41421356, 1.73205081],\n",
       "       [2.        , 2.23606798, 2.44948974, 2.64575131],\n",
       "       [2.82842712, 3.        , 3.16227766, 3.31662479],\n",
       "       [3.46410162, 3.60555128, 3.74165739, 3.87298335],\n",
       "       [4.        , 4.12310563, 4.24264069, 4.35889894],\n",
       "       [4.47213595, 4.58257569, 4.69041576, 4.79583152]])"
      ]
     },
     "execution_count": 66,
     "metadata": {},
     "output_type": "execute_result"
    }
   ],
   "source": [
    "np.sqrt(data2)"
   ]
  },
  {
   "cell_type": "code",
   "execution_count": 68,
   "id": "1d1f8344-29bd-4198-9b0c-a25070e6bdbe",
   "metadata": {},
   "outputs": [
    {
     "data": {
      "text/plain": [
       "array([[ True, False, False, False],\n",
       "       [False, False, False, False],\n",
       "       [False, False, False, False],\n",
       "       [False, False, False, False],\n",
       "       [False, False, False, False],\n",
       "       [False, False, False, False]])"
      ]
     },
     "execution_count": 68,
     "metadata": {},
     "output_type": "execute_result"
    }
   ],
   "source": [
    "data2>data3"
   ]
  },
  {
   "cell_type": "markdown",
   "id": "812817ed-4aa8-4c36-ae10-04cb5a6be580",
   "metadata": {},
   "source": [
    "### 3.Data Aggregation"
   ]
  },
  {
   "cell_type": "code",
   "execution_count": 72,
   "id": "742c0add-7b7c-4408-a75b-6502ca6674ac",
   "metadata": {},
   "outputs": [
    {
     "data": {
      "text/plain": [
       "array([ 3, 64, 50, 73, 81, 25, 92, 45, 84, 58])"
      ]
     },
     "execution_count": 72,
     "metadata": {},
     "output_type": "execute_result"
    }
   ],
   "source": [
    "arr=np.random.randint(1,100,10)\n",
    "arr"
   ]
  },
  {
   "cell_type": "code",
   "execution_count": 73,
   "id": "a3efe0a4-73f2-48f6-bb67-310e587a583e",
   "metadata": {},
   "outputs": [
    {
     "data": {
      "text/plain": [
       "57.5"
      ]
     },
     "execution_count": 73,
     "metadata": {},
     "output_type": "execute_result"
    }
   ],
   "source": [
    "#to calculate mean\n",
    "mean=np.mean(arr)\n",
    "mean"
   ]
  },
  {
   "cell_type": "code",
   "execution_count": 74,
   "id": "df02cab5-c388-4d76-962e-0d9dd4d766e7",
   "metadata": {},
   "outputs": [
    {
     "data": {
      "text/plain": [
       "61.0"
      ]
     },
     "execution_count": 74,
     "metadata": {},
     "output_type": "execute_result"
    }
   ],
   "source": [
    "#to calculate median\n",
    "median=np.median(arr)\n",
    "median"
   ]
  },
  {
   "cell_type": "code",
   "execution_count": 75,
   "id": "3f006400-85da-4248-a56c-2a6db149d8f1",
   "metadata": {},
   "outputs": [
    {
     "data": {
      "text/plain": [
       "26.39412813487121"
      ]
     },
     "execution_count": 75,
     "metadata": {},
     "output_type": "execute_result"
    }
   ],
   "source": [
    "#to calculate standard deviation\n",
    "std=np.std(arr)\n",
    "std"
   ]
  },
  {
   "cell_type": "code",
   "execution_count": 76,
   "id": "9b226081-ea65-42ac-9111-4815b20da074",
   "metadata": {},
   "outputs": [
    {
     "data": {
      "text/plain": [
       "575"
      ]
     },
     "execution_count": 76,
     "metadata": {},
     "output_type": "execute_result"
    }
   ],
   "source": [
    "#to calculate sum of the elements\n",
    "sum=np.sum(arr)\n",
    "sum"
   ]
  },
  {
   "cell_type": "markdown",
   "id": "52729bc6-cb90-4396-924a-2a3100babb80",
   "metadata": {},
   "source": [
    "### 3.Data Analysis"
   ]
  },
  {
   "cell_type": "markdown",
   "id": "8d35e8bb-67ac-459c-a6ad-35f386eece1b",
   "metadata": {},
   "source": [
    "#### Correlations"
   ]
  },
  {
   "cell_type": "markdown",
   "id": "d76c61d8-7bde-4503-b2a2-14714557f4c0",
   "metadata": {},
   "source": [
    "Correlation measures the relationship between two variables. You can use NumPy's corrcoef() function to compute the correlation coefficient matrix."
   ]
  },
  {
   "cell_type": "code",
   "execution_count": 77,
   "id": "5b44b263-55f7-47bd-96b8-fa2a6985bc0a",
   "metadata": {},
   "outputs": [],
   "source": [
    "data_x = np.random.normal(50, 10, 1000)  # Normally distributed data, mean=50, std=10\n",
    "data_y = data_x * 0.8 + np.random.normal(0, 5, 1000)  # Correlated data with noise"
   ]
  },
  {
   "cell_type": "code",
   "execution_count": 78,
   "id": "0839245a-b622-45f5-8cab-770c97a6d3fd",
   "metadata": {},
   "outputs": [
    {
     "data": {
      "text/plain": [
       "array([[1.        , 0.84852166],\n",
       "       [0.84852166, 1.        ]])"
      ]
     },
     "execution_count": 78,
     "metadata": {},
     "output_type": "execute_result"
    }
   ],
   "source": [
    "correlation_matrix = np.corrcoef(data_x, data_y)\n",
    "correlation_matrix\n"
   ]
  },
  {
   "cell_type": "markdown",
   "id": "8ecf489e-e879-4c82-b812-ee9119a646d8",
   "metadata": {},
   "source": [
    "#### Outliers"
   ]
  },
  {
   "cell_type": "markdown",
   "id": "a42b6a23-8b33-414d-83d3-8da0a48eb9e3",
   "metadata": {},
   "source": [
    "Outliers are data points that differ significantly from other observations. One common method to identify outliers is using the Z-score, which indicates how many standard deviations a data point is from the mean."
   ]
  },
  {
   "cell_type": "markdown",
   "id": "a0087fd6-92cc-4b57-b601-8b555c6520d1",
   "metadata": {},
   "source": [
    "Interpretation:\n",
    "Z = 0: The data point is exactly at the mean.\n",
    "\n",
    "Z > 0: The data point is above the mean (positive deviation).\n",
    "\n",
    "Z < 0: The data point is below the mean (negative deviation).\n",
    "\n",
    "|Z| > 2: Typically indicates that the data point is an outlier, especially if |Z| is greater than 3, meaning it’s very far from the mean."
   ]
  },
  {
   "cell_type": "code",
   "execution_count": 79,
   "id": "473e0b59-3ece-48a7-9a12-296c7691c296",
   "metadata": {},
   "outputs": [
    {
     "name": "stdout",
     "output_type": "stream",
     "text": [
      "Outliers at indices: (array([ 48, 127, 509], dtype=int64),)\n",
      "Outlier values: [15.48523239 80.19502312 20.28941286]\n"
     ]
    }
   ],
   "source": [
    "mean_x = np.mean(data_x)\n",
    "std_x = np.std(data_x)\n",
    "z_scores = (data_x - mean_x) / std_x\n",
    "\n",
    "# Identify outliers\n",
    "outliers = np.where(np.abs(z_scores) > 3)  # Using a threshold of 3 standard deviations\n",
    "print(\"Outliers at indices:\", outliers)\n",
    "print(\"Outlier values:\", data_x[outliers])"
   ]
  },
  {
   "cell_type": "markdown",
   "id": "0c66341a-0e17-488b-a346-9efb2a19538e",
   "metadata": {},
   "source": [
    "#### Calculating Percentiles"
   ]
  },
  {
   "cell_type": "markdown",
   "id": "6089dcf2-8db0-4b10-bfdb-b890b8d3f7eb",
   "metadata": {},
   "source": [
    "nth Percentile: The nth percentile is the value below which n percent of the data falls. For example, the 25th percentile is the value below which 25% of the data points are found."
   ]
  },
  {
   "cell_type": "code",
   "execution_count": 80,
   "id": "e8fa0175-0170-40c2-ac0b-27605bbc1ef4",
   "metadata": {},
   "outputs": [
    {
     "data": {
      "text/plain": [
       "43.36902937229056"
      ]
     },
     "execution_count": 80,
     "metadata": {},
     "output_type": "execute_result"
    }
   ],
   "source": [
    "np.percentile(data_x, 25)"
   ]
  },
  {
   "cell_type": "code",
   "execution_count": 81,
   "id": "b35ff489-bae2-436a-b6bf-b7ce57fcb45d",
   "metadata": {},
   "outputs": [
    {
     "data": {
      "text/plain": [
       "50.19720944126827"
      ]
     },
     "execution_count": 81,
     "metadata": {},
     "output_type": "execute_result"
    }
   ],
   "source": [
    "np.percentile(data_x, 50)"
   ]
  },
  {
   "cell_type": "code",
   "execution_count": 82,
   "id": "79ae26b5-9f93-49f0-896a-76c906c8253d",
   "metadata": {},
   "outputs": [
    {
     "data": {
      "text/plain": [
       "56.888775801290926"
      ]
     },
     "execution_count": 82,
     "metadata": {},
     "output_type": "execute_result"
    }
   ],
   "source": [
    "np.percentile(data_x, 75)"
   ]
  },
  {
   "cell_type": "markdown",
   "id": "a012c4e5-66a9-45cc-87e1-1405090810e3",
   "metadata": {},
   "source": [
    "### Efficiency with Large datasets"
   ]
  },
  {
   "cell_type": "markdown",
   "id": "eb1062f3-3a14-442f-ae92-c24147345e50",
   "metadata": {},
   "source": [
    "NumPy is optimized for handling large datasets efficiently. Its operations are vectorized, meaning that operations are applied simultaneously to entire arrays rather than using Python loops. This makes NumPy significantly faster, especially for large-scale computations."
   ]
  },
  {
   "cell_type": "code",
   "execution_count": 87,
   "id": "f1b06ea1-ad3c-42b3-b1bf-dbe0010d75fb",
   "metadata": {},
   "outputs": [
    {
     "name": "stdout",
     "output_type": "stream",
     "text": [
      "NumPy Mean: 49.9843259\n",
      "NumPy Time: 0.009637117385864258\n",
      "Python Loop Mean: 49.9843259\n",
      "Python Loop Time: 0.005397796630859375\n"
     ]
    }
   ],
   "source": [
    "import time\n",
    "\n",
    "# Large dataset\n",
    "large_data = np.random.randint(1, 100, 10**7)\n",
    "\n",
    "# Using NumPy\n",
    "start_time = time.time()\n",
    "mean_np = np.mean(large_data)\n",
    "end_time = time.time()\n",
    "print(\"NumPy Mean:\", mean_np)\n",
    "print(\"NumPy Time:\", end_time - start_time)\n",
    "\n",
    "# Using a Python loop (for comparison)\n",
    "start_time = time.time()\n",
    "mean_py = np.sum(large_data) / len(large_data)\n",
    "end_time = time.time()\n",
    "print(\"Python Loop Mean:\", mean_py)\n",
    "print(\"Python Loop Time:\", end_time - start_time)"
   ]
  },
  {
   "cell_type": "markdown",
   "id": "bb0a29ea-6cad-4481-883f-1810038b19e5",
   "metadata": {},
   "source": [
    "### Numpy in Datascience"
   ]
  },
  {
   "cell_type": "markdown",
   "id": "0a278eac-453e-4c44-9037-4d7320156258",
   "metadata": {},
   "source": [
    "**NumPy** is a powerful tool that enhances the capabilities of data science professionals by providing efficient, scalable, and easy-to-use functionality for numerical computations and data aggregation. Its ability to handle large datasets, perform vectorized operations, and offer a comprehensive set of mathematical and statistical functions makes it far superior to traditional Python data structures. Whether you're calculating basic statistics, performing complex aggregations, or analyzing large-scale data, NumPy is an essential component of the data science toolkit, enabling more effective and efficient data analysis."
   ]
  },
  {
   "cell_type": "markdown",
   "id": "d2007ac1-af76-4f9e-949b-353755ef2e7a",
   "metadata": {},
   "source": [
    "## Real world applications"
   ]
  },
  {
   "cell_type": "markdown",
   "id": "56cc504c-f4e1-4260-8d48-b16a9eec9b5b",
   "metadata": {},
   "source": [
    "**Machine Learning:** NumPy is vital for data preprocessing, feature scaling, and matrix operations during model training, which are foundational to machine learning.\n",
    "\n",
    "**Financial Analysis:** NumPy facilitates portfolio optimization, time series analysis, and risk assessment, making it indispensable in finance.\n",
    "\n",
    "**Scientific Research**:NumPy supports large-scale simulations and statistical analysis, enabling scientists to model complex systems and analyze experimental data efficiently.\n",
    "In all these areas, NumPy’s ability to handle large datasets, perform efficient mathematical operations, and integrate with other scientific libraries makes it an essential tool, driving advancements in technology, finance, and science."
   ]
  },
  {
   "cell_type": "markdown",
   "id": "2c1279f0-8445-438f-8c75-d97214d24efc",
   "metadata": {},
   "source": [
    "## SUMMARY"
   ]
  },
  {
   "cell_type": "markdown",
   "id": "090590ab-3e7d-4edd-8b44-64a53bfec031",
   "metadata": {},
   "source": [
    "NumPy is a vital tool for data science professionals, offering significant benefits in terms of computational efficiency, data manipulation capabilities, and ease of integration with other libraries. Its ability to handle large datasets, perform complex mathematical operations, and support a wide range of real-world applications makes it an essential component of the data science toolkit. Whether you're working in machine learning, financial analysis, or scientific research, NumPy enables you to process, analyze, and draw insights from data more effectively, ultimately driving better decisions and outcomes in your work."
   ]
  },
  {
   "cell_type": "code",
   "execution_count": null,
   "id": "70a3b5cf-cb8d-4f7e-ae40-59d4fdf10175",
   "metadata": {},
   "outputs": [],
   "source": []
  }
 ],
 "metadata": {
  "kernelspec": {
   "display_name": "Python 3 (ipykernel)",
   "language": "python",
   "name": "python3"
  },
  "language_info": {
   "codemirror_mode": {
    "name": "ipython",
    "version": 3
   },
   "file_extension": ".py",
   "mimetype": "text/x-python",
   "name": "python",
   "nbconvert_exporter": "python",
   "pygments_lexer": "ipython3",
   "version": "3.12.0"
  }
 },
 "nbformat": 4,
 "nbformat_minor": 5
}
